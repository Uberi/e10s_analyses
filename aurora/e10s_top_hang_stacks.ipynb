{
 "cells": [
  {
   "cell_type": "markdown",
   "metadata": {},
   "source": [
    "### E10S Experiment Aurora: Top hang stacks"
   ]
  },
  {
   "cell_type": "code",
   "execution_count": 1,
   "metadata": {
    "collapsed": false
   },
   "outputs": [
    {
     "name": "stdout",
     "output_type": "stream",
     "text": [
      "Unable to parse whitelist (/home/hadoop/anaconda/lib/python2.7/site-packages/moztelemetry/bucket-whitelist.json). Assuming all histograms are acceptable.\n",
      "Populating the interactive namespace from numpy and matplotlib\n"
     ]
    }
   ],
   "source": [
    "import ujson as json\n",
    "import matplotlib.pyplot as plt\n",
    "import pandas as pd\n",
    "import numpy as np\n",
    "import plotly.plotly as py\n",
    "import IPython\n",
    "\n",
    "from __future__ import division\n",
    "from moztelemetry.spark import get_pings, get_one_ping_per_client, get_pings_properties\n",
    "from montecarlino import grouped_permutation_test\n",
    "\n",
    "%pylab inline\n",
    "IPython.core.pylabtools.figsize(16, 7)"
   ]
  },
  {
   "cell_type": "code",
   "execution_count": 2,
   "metadata": {
    "collapsed": false
   },
   "outputs": [
    {
     "data": {
      "text/plain": [
       "128"
      ]
     },
     "execution_count": 2,
     "metadata": {},
     "output_type": "execute_result"
    }
   ],
   "source": [
    "sc.defaultParallelism"
   ]
  },
  {
   "cell_type": "markdown",
   "metadata": {},
   "source": [
    "#### Get e10s and non-e10s partitions"
   ]
  },
  {
   "cell_type": "code",
   "execution_count": 3,
   "metadata": {
    "collapsed": true
   },
   "outputs": [],
   "source": [
    "def is_in_e10s_experiment(ping):\n",
    "    try:\n",
    "        experiment = ping[\"environment\"][\"addons\"][\"activeExperiment\"]\n",
    "        return experiment[\"id\"] == \"e10s-enabled-aurora-20151020@experiments.mozilla.org\" and \\\n",
    "               (experiment[\"branch\"] == \"control\" or experiment[\"branch\"] == \"experiment\")   \n",
    "    except:\n",
    "        return False"
   ]
  },
  {
   "cell_type": "code",
   "execution_count": 4,
   "metadata": {
    "collapsed": false
   },
   "outputs": [],
   "source": [
    "pings = get_pings(sc, app=\"Firefox\", channel=\"aurora\", version=\"43.0a2\", submission_date=(\"20151023\", \"20151027\"))\\\n",
    "        .filter(is_in_e10s_experiment)"
   ]
  },
  {
   "cell_type": "markdown",
   "metadata": {},
   "source": [
    "How many pings do we have in each branch?"
   ]
  },
  {
   "cell_type": "code",
   "execution_count": 5,
   "metadata": {
    "collapsed": false
   },
   "outputs": [
    {
     "data": {
      "text/plain": [
       "[(u'experiment', 263044), (u'control', 258968)]"
      ]
     },
     "execution_count": 5,
     "metadata": {},
     "output_type": "execute_result"
    }
   ],
   "source": [
    "pings.map(lambda x: (x[\"environment\"][\"addons\"][\"activeExperiment\"][\"branch\"], 1))\\\n",
    "     .reduceByKey(lambda x, y: x + y)\\\n",
    "     .collect()"
   ]
  },
  {
   "cell_type": "markdown",
   "metadata": {},
   "source": [
    "Get a single ping for each client, but make sure it's not the first one as the experiment branch will not be enforced until the next restart"
   ]
  },
  {
   "cell_type": "code",
   "execution_count": 6,
   "metadata": {
    "collapsed": true
   },
   "outputs": [],
   "source": [
    "first_ping_of_client = \\\n",
    "      pings.map(lambda p: (p[\"clientId\"], p))\\\n",
    "     .reduceByKey(lambda x, y: x if x[\"meta\"][\"creationTimestamp\"] < y[\"meta\"][\"creationTimestamp\"] else y)\\\n",
    "     .map(lambda p: (p[0], p[1][\"meta\"][\"documentId\"]))\\\n",
    "     .collectAsMap()"
   ]
  },
  {
   "cell_type": "code",
   "execution_count": 7,
   "metadata": {
    "collapsed": false
   },
   "outputs": [],
   "source": [
    "def not_first(ping):\n",
    "    return not ping[\"meta\"][\"documentId\"] in first_ping_of_client[ping[\"clientId\"]]\n",
    "\n",
    "subset = get_one_ping_per_client(pings.filter(not_first))"
   ]
  },
  {
   "cell_type": "markdown",
   "metadata": {},
   "source": [
    "How many clients do we have in each branch?"
   ]
  },
  {
   "cell_type": "code",
   "execution_count": 8,
   "metadata": {
    "collapsed": false
   },
   "outputs": [
    {
     "data": {
      "text/plain": [
       "[(u'experiment', 28310), (u'control', 28236)]"
      ]
     },
     "execution_count": 8,
     "metadata": {},
     "output_type": "execute_result"
    }
   ],
   "source": [
    "subset.map(lambda x: (x[\"environment\"][\"addons\"][\"activeExperiment\"][\"branch\"], 1))\\\n",
    "      .reduceByKey(lambda x, y: x + y)\\\n",
    "      .collect()"
   ]
  },
  {
   "cell_type": "markdown",
   "metadata": {},
   "source": [
    "How many clients have a mismatching experiment state?"
   ]
  },
  {
   "cell_type": "code",
   "execution_count": 9,
   "metadata": {
    "collapsed": true
   },
   "outputs": [],
   "source": [
    "def e10s_status_mismatch(ping):\n",
    "    branch = ping[\"environment\"][\"addons\"][\"activeExperiment\"][\"branch\"]\n",
    "    branch_status = True if branch == \"experiment\" else False\n",
    "    return (branch, branch_status != ping[\"environment\"][\"settings\"][\"e10sEnabled\"])"
   ]
  },
  {
   "cell_type": "code",
   "execution_count": 10,
   "metadata": {
    "collapsed": false
   },
   "outputs": [
    {
     "data": {
      "text/plain": [
       "[(u'experiment', 0), (u'control', 59)]"
      ]
     },
     "execution_count": 10,
     "metadata": {},
     "output_type": "execute_result"
    }
   ],
   "source": [
    "subset.map(e10s_status_mismatch).reduceByKey(lambda x, y: x + y).collect()"
   ]
  },
  {
   "cell_type": "markdown",
   "metadata": {},
   "source": [
    "Exclude mismatching clients"
   ]
  },
  {
   "cell_type": "code",
   "execution_count": 11,
   "metadata": {
    "collapsed": true
   },
   "outputs": [],
   "source": [
    "subset = subset.filter(lambda p: not e10s_status_mismatch(p)[1])"
   ]
  },
  {
   "cell_type": "code",
   "execution_count": 12,
   "metadata": {
    "collapsed": false
   },
   "outputs": [
    {
     "data": {
      "text/plain": [
       "[(u'experiment', 0), (u'control', 0)]"
      ]
     },
     "execution_count": 12,
     "metadata": {},
     "output_type": "execute_result"
    }
   ],
   "source": [
    "subset.map(e10s_status_mismatch).reduceByKey(lambda x, y: x + y).collect()"
   ]
  },
  {
   "cell_type": "markdown",
   "metadata": {},
   "source": [
    "#### Get top stacks"
   ]
  },
  {
   "cell_type": "code",
   "execution_count": 13,
   "metadata": {
    "collapsed": false
   },
   "outputs": [],
   "source": [
    "e_subset = subset.filter(lambda p: p[\"environment\"][\"settings\"][\"e10sEnabled\"])\n",
    "n_subset = subset.filter(lambda p: not p[\"environment\"][\"settings\"][\"e10sEnabled\"])"
   ]
  },
  {
   "cell_type": "code",
   "execution_count": 14,
   "metadata": {
    "collapsed": false
   },
   "outputs": [],
   "source": [
    "def get_stacks(ping):\n",
    "    threads = ping[\"payload\"].get(\"threadHangStats\", {})\n",
    "    for thread in threads:\n",
    "        if thread[\"name\"] == \"Gecko\":\n",
    "            for hang in thread[\"hangs\"]:\n",
    "                if hang[\"stack\"]:\n",
    "                    yield (tuple(hang[\"stack\"]), sum(hang[\"histogram\"][\"values\"].values()))\n",
    "\n",
    "def get_top_frames(subset):\n",
    "    stacks = subset.flatMap(get_stacks).reduceByKey(lambda a, b: a + b).collectAsMap()\n",
    "    total_hits = 0\n",
    "    top_frames = {}\n",
    "    for stack, hits in stacks.iteritems():\n",
    "        stack_top_frame = stack[-1]\n",
    "        if not stack_top_frame in top_frames:\n",
    "            top_frames[stack_top_frame] = { \"frame\": stack_top_frame, \"stacks\": [], \"hits\": 0 }\n",
    "\n",
    "        top_frame = top_frames[stack_top_frame]\n",
    "\n",
    "        # Keep stacks sorted by hits.\n",
    "        top_frame[\"stacks\"].append((stack, hits))\n",
    "        top_frame[\"stacks\"].sort(key=lambda d: d[1], reverse=True)\n",
    "\n",
    "        top_frame[\"hits\"] += hits\n",
    "        total_hits += hits\n",
    "\n",
    "    return top_frames, total_hits\n",
    "\n",
    "def get_top_stacks(subset):\n",
    "    top_frames, total_hits = get_top_frames(subset)\n",
    "    top_stacks = sorted(top_frames.values(), key=lambda d: d[\"hits\"], reverse=True)\n",
    "    return top_stacks, total_hits\n",
    "\n",
    "def get_stack_hits(stacks, stack):\n",
    "    for s, h in stacks:\n",
    "        if s == stack:\n",
    "            return h\n",
    "    return 0"
   ]
  },
  {
   "cell_type": "code",
   "execution_count": 15,
   "metadata": {
    "collapsed": false
   },
   "outputs": [],
   "source": [
    "e_top_stacks, e_total_hits = get_top_stacks(e_subset)"
   ]
  },
  {
   "cell_type": "code",
   "execution_count": 16,
   "metadata": {
    "collapsed": false
   },
   "outputs": [],
   "source": [
    "n_top_frames, n_total_hits = get_top_frames(n_subset)"
   ]
  },
  {
   "cell_type": "code",
   "execution_count": 17,
   "metadata": {
    "collapsed": true
   },
   "outputs": [],
   "source": [
    "def print_top_frames(frame_count, stack_count):\n",
    "    for e_top_stack in e_top_stacks[0:frame_count]:\n",
    "        n_frame = n_top_frames.get(e_top_stack[\"frame\"], {})\n",
    "        n_hits = n_frame.get(\"hits\", 0)\n",
    "        print \"{:.2f}% ({:.2f}%): {} ({})\".format(\n",
    "            100.0 * e_top_stack[\"hits\"] / e_total_hits,\n",
    "            100.0 * n_hits / n_total_hits,\n",
    "            e_top_stack[\"frame\"],\n",
    "            e_top_stack[\"hits\"])\n",
    "        for e_stack, e_stack_hits in e_top_stack[\"stacks\"][0:stack_count]:\n",
    "            n_stack_hits = get_stack_hits(n_frame.get(\"stacks\", []), e_stack)\n",
    "            print \"  - {:.4f}% ({:.4f}%):\".format(\n",
    "                100.0 * e_stack_hits / e_total_hits,\n",
    "                100.0 * n_stack_hits / n_total_hits)\n",
    "            print \"    {}\\n\".format(\"\\n    \".join(e_stack))"
   ]
  },
  {
   "cell_type": "markdown",
   "metadata": {},
   "source": [
    "#### Top frames in e10s crashes"
   ]
  },
  {
   "cell_type": "markdown",
   "metadata": {},
   "source": [
    "The results are in the form: `e10s% (non-e10s%): top frame (total e10s hits)`"
   ]
  },
  {
   "cell_type": "code",
   "execution_count": 18,
   "metadata": {
    "collapsed": false
   },
   "outputs": [
    {
     "name": "stdout",
     "output_type": "stream",
     "text": [
      "43.95% (41.52%): Timer::Fire (19843427)\n",
      "32.70% (17.38%): Startup::XRE_Main (14762880)\n",
      "7.11% (0.00%): IPDL::PCookieService::RecvGetCookieString (3209248)\n",
      "2.00% (3.04%): nsCycleCollector::forgetSkippable (902254)\n",
      "1.84% (0.00%): IPDL::PScreenManager::RecvScreenForBrowser (830302)\n",
      "1.01% (1.66%): nsViewManager::DispatchEvent (457349)\n",
      "0.94% (0.20%): nsHttpChannel::OnDataAvailable (424111)\n",
      "0.93% (2.15%): ViewportFrame::BuildDisplayList (419515)\n",
      "0.77% (0.26%): nsLayoutUtils::GetFramesForArea (348625)\n",
      "0.59% (0.00%): IPDL::PJavaScript::SendGet (267344)\n",
      "0.51% (4.48%): js::GCRuntime::collect (230967)\n",
      "0.45% (0.59%): self-hosted:647 (203637)\n",
      "0.40% (0.09%): nsHttpChannel::OnStartRequest (181215)\n",
      "0.31% (0.00%): IPDL::PBrowser::RecvAsyncMessage (141679)\n",
      "0.28% (1.70%): PresShell::DoReflow (125358)\n",
      "0.27% (0.00%): IPDL::PNecko::RecvPHttpChannelConstructor (122972)\n",
      "0.23% (0.03%): nsInputStreamPump::OnStateTransfer (103913)\n",
      "0.22% (0.00%): IPDL::PCookieService::RecvSetCookieString (97497)\n",
      "0.17% (0.00%): IPDL::PContent::RecvRpcMessage (77247)\n",
      "0.17% (0.00%): IPDL::PStorage::RecvAsyncUpdateItem (76597)\n",
      "0.16% (0.00%): IPDL::PStorage::RecvAsyncRemoveItem (72238)\n",
      "0.16% (0.75%): nsCycleCollector::collectSlice (70287)\n",
      "0.15% (0.00%): IPDL::PHttpChannel::AsyncSendOnProgress (68895)\n",
      "0.15% (0.29%): (chrome script) (67597)\n",
      "0.15% (0.17%): EventDispatcher::Dispatch (66752)\n"
     ]
    }
   ],
   "source": [
    "print_top_frames(25, 0)"
   ]
  },
  {
   "cell_type": "markdown",
   "metadata": {},
   "source": [
    "#### Top stacks of each frame in e10s crashes"
   ]
  },
  {
   "cell_type": "code",
   "execution_count": 19,
   "metadata": {
    "collapsed": false
   },
   "outputs": [
    {
     "name": "stdout",
     "output_type": "stream",
     "text": [
      "43.95% (41.52%): Timer::Fire (19843427)\n",
      "  - 43.8862% (41.4334%):\n",
      "    Startup::XRE_Main\n",
      "    Timer::Fire\n",
      "\n",
      "  - 0.0189% (0.0000%):\n",
      "    Startup::XRE_Main\n",
      "    nsViewManager::DispatchEvent\n",
      "    Timer::Fire\n",
      "\n",
      "  - 0.0122% (0.0024%):\n",
      "    Startup::XRE_Main\n",
      "    EventDispatcher::Dispatch\n",
      "    browser/content/browser.xul:1\n",
      "    nsBrowserGlue.js:265\n",
      "    browser/content/tabbrowser.xml:1987\n",
      "    gre/components/nsPrompter.js:78\n",
      "    Timer::Fire\n",
      "\n",
      "32.70% (17.38%): Startup::XRE_Main (14762880)\n",
      "  - 32.6988% (17.3843%):\n",
      "    Startup::XRE_Main\n",
      "\n",
      "7.11% (0.00%): IPDL::PCookieService::RecvGetCookieString (3209248)\n",
      "  - 7.0972% (0.0002%):\n",
      "    Startup::XRE_Main\n",
      "    IPDL::PCookieService::RecvGetCookieString\n",
      "\n",
      "  - 0.0079% (0.0000%):\n",
      "    Startup::XRE_Main\n",
      "    nsViewManager::DispatchEvent\n",
      "    IPDL::PCookieService::RecvGetCookieString\n",
      "\n",
      "  - 0.0007% (0.0000%):\n",
      "    Startup::XRE_Main\n",
      "    gre/modules/services-sync/service.js:1263\n",
      "    services-sync/util.js:76\n",
      "    gre/modules/services-sync/service.js:1270\n",
      "    services-sync/util.js:76\n",
      "    services-sync/util.js:98\n",
      "    services-sync/util.js:146\n",
      "    gre/modules/services-sync/service.js:971\n",
      "    services-common/async.js:156\n",
      "    IPDL::PCookieService::RecvGetCookieString\n",
      "\n",
      "2.00% (3.04%): nsCycleCollector::forgetSkippable (902254)\n",
      "  - 1.9882% (3.0216%):\n",
      "    Startup::XRE_Main\n",
      "    Timer::Fire\n",
      "    nsCycleCollector::forgetSkippable\n",
      "\n",
      "  - 0.0031% (0.0038%):\n",
      "    Startup::XRE_Main\n",
      "    Events::ProcessGeckoEvents\n",
      "    Timer::Fire\n",
      "    nsCycleCollector::forgetSkippable\n",
      "\n",
      "  - 0.0031% (0.0000%):\n",
      "    Startup::XRE_Main\n",
      "    nsViewManager::DispatchEvent\n",
      "    Timer::Fire\n",
      "    nsCycleCollector::forgetSkippable\n",
      "\n",
      "1.84% (0.00%): IPDL::PScreenManager::RecvScreenForBrowser (830302)\n",
      "  - 1.8363% (0.0003%):\n",
      "    Startup::XRE_Main\n",
      "    IPDL::PScreenManager::RecvScreenForBrowser\n",
      "\n",
      "  - 0.0012% (0.0000%):\n",
      "    Startup::XRE_Main\n",
      "    EventDispatcher::Dispatch\n",
      "    browser/content/browser.xul:1\n",
      "    gre/components/nsPrompter.js:78\n",
      "    IPDL::PScreenManager::RecvScreenForBrowser\n",
      "\n",
      "  - 0.0007% (0.0000%):\n",
      "    Startup::XRE_Main\n",
      "    PresShell::Flush\n",
      "    EventDispatcher::Dispatch\n",
      "    browser/content/tabbrowser.xml:5013\n",
      "    browser/content/tabbrowser.xml:51\n",
      "    gre/components/nsPrompter.js:668\n",
      "    IPDL::PScreenManager::RecvScreenForBrowser\n",
      "\n",
      "1.01% (1.66%): nsViewManager::DispatchEvent (457349)\n",
      "  - 0.8485% (1.5408%):\n",
      "    Startup::XRE_Main\n",
      "    Timer::Fire\n",
      "    nsViewManager::DispatchEvent\n",
      "\n",
      "  - 0.1623% (0.1078%):\n",
      "    Startup::XRE_Main\n",
      "    nsViewManager::DispatchEvent\n",
      "\n",
      "  - 0.0015% (0.0031%):\n",
      "    Startup::XRE_Main\n",
      "    nsRefreshDriver::Tick\n",
      "    nsViewManager::DispatchEvent\n",
      "\n",
      "0.94% (0.20%): nsHttpChannel::OnDataAvailable (424111)\n",
      "  - 0.9329% (0.1850%):\n",
      "    Startup::XRE_Main\n",
      "    nsInputStreamPump::OnInputStreamReady\n",
      "    nsInputStreamPump::OnStateTransfer\n",
      "    nsHttpChannel::OnDataAvailable\n",
      "\n",
      "  - 0.0039% (0.0084%):\n",
      "    Startup::XRE_Main\n",
      "    Events::ProcessGeckoEvents\n",
      "    nsInputStreamPump::OnInputStreamReady\n",
      "    nsInputStreamPump::OnStateTransfer\n",
      "    nsHttpChannel::OnDataAvailable\n",
      "\n",
      "  - 0.0006% (0.0000%):\n",
      "    Startup::XRE_Main\n",
      "    IPDL::PBrowser::RecvAsyncMessage\n",
      "    /modules/RemotePrompt.jsm:26\n",
      "    nsInputStreamPump::OnInputStreamReady\n",
      "    nsInputStreamPump::OnStateTransfer\n",
      "    nsHttpChannel::OnDataAvailable\n",
      "\n",
      "0.93% (2.15%): ViewportFrame::BuildDisplayList (419515)\n",
      "  - 0.8659% (1.8719%):\n",
      "    Startup::XRE_Main\n",
      "    Timer::Fire\n",
      "    nsViewManager::DispatchEvent\n",
      "    nsLayoutUtils::GetFrameForPoint\n",
      "    nsLayoutUtils::GetFramesForArea\n",
      "    ViewportFrame::BuildDisplayList\n",
      "\n",
      "  - 0.0452% (0.0228%):\n",
      "    Startup::XRE_Main\n",
      "    nsViewManager::DispatchEvent\n",
      "    nsLayoutUtils::GetFrameForPoint\n",
      "    nsLayoutUtils::GetFramesForArea\n",
      "    ViewportFrame::BuildDisplayList\n",
      "\n",
      "  - 0.0161% (0.2309%):\n",
      "    Startup::XRE_Main\n",
      "    nsRefreshDriver::Tick\n",
      "    PresShell::Paint\n",
      "    nsLayoutUtils::PaintFrame\n",
      "    nsLayoutUtils::PaintFrame::BuildDisplayList\n",
      "    ViewportFrame::BuildDisplayList\n",
      "\n",
      "0.77% (0.26%): nsLayoutUtils::GetFramesForArea (348625)\n",
      "  - 0.6838% (0.2489%):\n",
      "    Startup::XRE_Main\n",
      "    Timer::Fire\n",
      "    nsViewManager::DispatchEvent\n",
      "    nsLayoutUtils::GetFrameForPoint\n",
      "    nsLayoutUtils::GetFramesForArea\n",
      "\n",
      "  - 0.0879% (0.0083%):\n",
      "    Startup::XRE_Main\n",
      "    nsViewManager::DispatchEvent\n",
      "    nsLayoutUtils::GetFrameForPoint\n",
      "    nsLayoutUtils::GetFramesForArea\n",
      "\n",
      "  - 0.0001% (0.0000%):\n",
      "    Startup::XRE_Main\n",
      "    EventDispatcher::Dispatch\n",
      "    browser/content/browser.js:18722\n",
      "    gre/components/nsPrompter.js:668\n",
      "    Timer::Fire\n",
      "    nsViewManager::DispatchEvent\n",
      "    nsLayoutUtils::GetFrameForPoint\n",
      "    nsLayoutUtils::GetFramesForArea\n",
      "\n",
      "0.59% (0.00%): IPDL::PJavaScript::SendGet (267344)\n",
      "  - 0.2390% (0.0000%):\n",
      "    Startup::XRE_Main\n",
      "    Timer::Fire\n",
      "    %7Bd10d0bf8-f5b5-c8b4-a8b2-2b9879e08c5d%7D.xpi!/lib/objectTabs.js:432\n",
      "    IPDL::PJavaScript::SendGet\n",
      "\n",
      "  - 0.0203% (0.0000%):\n",
      "    Startup::XRE_Main\n",
      "    Timer::Fire\n",
      "    browser/content/tabbrowser.xml:856\n",
      "    browser/content/tabbrowser.xml:532\n",
      "    gre/modules/RemoteAddonsParent.jsm:891\n",
      "    flashvideodownload/content/overlay.js:191\n",
      "    flashvideodownload/classes/YouTubeVideoFile.js:237\n",
      "    IPDL::PJavaScript::SendGet\n",
      "\n",
      "  - 0.0188% (0.0000%):\n",
      "    Startup::XRE_Main\n",
      "    IPDL::PBrowser::RecvRpcMessage\n",
      "    gre/modules/RemoteWebProgress.jsm:183\n",
      "    browser/content/tabbrowser.xml:649\n",
      "    browser/content/tabbrowser.xml:532\n",
      "    gre/modules/RemoteAddonsParent.jsm:891\n",
      "    flashvideodownload/content/overlay.js:227\n",
      "    flashvideodownload/classes/YouTubeVideoFile.js:237\n",
      "    IPDL::PJavaScript::SendGet\n",
      "\n",
      "0.51% (4.48%): js::GCRuntime::collect (230967)\n",
      "  - 0.3130% (2.0508%):\n",
      "    Startup::XRE_Main\n",
      "    Timer::Fire\n",
      "    nsJSContext::GarbageCollectNow\n",
      "    js::GCRuntime::collect\n",
      "\n",
      "  - 0.0524% (0.0000%):\n",
      "    Startup::XRE_Main\n",
      "    Timer::Fire\n",
      "    gre/modules/Timer.jsm:29\n",
      "    clickyoutubed/content/jquery-1.10.2.min.js:4\n",
      "    gre/modules/Timer.jsm:24\n",
      "    js::GCRuntime::collect\n",
      "\n",
      "  - 0.0479% (1.4413%):\n",
      "    Startup::XRE_Main\n",
      "    nsRefreshDriver::Tick\n",
      "    js::GCRuntime::collect\n",
      "\n",
      "0.45% (0.59%): self-hosted:647 (203637)\n",
      "  - 0.4127% (0.5145%):\n",
      "    Startup::XRE_Main\n",
      "    gre/modules/Promise-backend.js:747\n",
      "    gre/modules/Promise-backend.js:805\n",
      "    gre/modules/Task.jsm:309\n",
      "    self-hosted:647\n",
      "\n",
      "  - 0.0147% (0.0200%):\n",
      "    Startup::XRE_Main\n",
      "    Events::ProcessGeckoEvents\n",
      "    gre/modules/Promise-backend.js:747\n",
      "    gre/modules/Promise-backend.js:805\n",
      "    gre/modules/Task.jsm:309\n",
      "    self-hosted:647\n",
      "\n",
      "  - 0.0044% (0.0081%):\n",
      "    Startup::XRE_Main\n",
      "    gre/modules/Promise-backend.js:747\n",
      "    gre/modules/Promise-backend.js:805\n",
      "    gre/modules/Task.jsm:309\n",
      "    self-hosted:647\n",
      "    self-hosted:647\n",
      "\n",
      "0.40% (0.09%): nsHttpChannel::OnStartRequest (181215)\n",
      "  - 0.3992% (0.0857%):\n",
      "    Startup::XRE_Main\n",
      "    nsInputStreamPump::OnInputStreamReady\n",
      "    nsInputStreamPump::OnStateStart\n",
      "    nsHttpChannel::OnStartRequest\n",
      "\n",
      "  - 0.0009% (0.0000%):\n",
      "    Startup::XRE_Main\n",
      "    nsViewManager::DispatchEvent\n",
      "    nsInputStreamPump::OnInputStreamReady\n",
      "    nsInputStreamPump::OnStateStart\n",
      "    nsHttpChannel::OnStartRequest\n",
      "\n",
      "  - 0.0003% (0.0001%):\n",
      "    Startup::XRE_Main\n",
      "    gre/modules/services-sync/service.js:1263\n",
      "    services-sync/util.js:76\n",
      "    gre/modules/services-sync/service.js:1270\n",
      "    gre/modules/services-sync/service.js:1290\n",
      "    services-sync/util.js:98\n",
      "    services-sync/util.js:146\n",
      "    gre/modules/services-sync/service.js:1293\n",
      "    services-sync/stages/enginesync.js:35\n",
      "    gre/modules/services-sync/service.js:554\n",
      "    services-sync/resource.js:430\n",
      "    services-common/async.js:98\n",
      "    nsInputStreamPump::OnInputStreamReady\n",
      "    nsInputStreamPump::OnStateStart\n",
      "    nsHttpChannel::OnStartRequest\n",
      "\n",
      "0.31% (0.00%): IPDL::PBrowser::RecvAsyncMessage (141679)\n",
      "  - 0.3131% (0.0000%):\n",
      "    Startup::XRE_Main\n",
      "    IPDL::PBrowser::RecvAsyncMessage\n",
      "\n",
      "  - 0.0005% (0.0000%):\n",
      "    Startup::XRE_Main\n",
      "    nsViewManager::DispatchEvent\n",
      "    IPDL::PBrowser::RecvAsyncMessage\n",
      "\n",
      "  - 0.0001% (0.0000%):\n",
      "    Startup::XRE_Main\n",
      "    Events::ProcessGeckoEvents\n",
      "    IPDL::PBrowser::RecvAsyncMessage\n",
      "\n",
      "0.28% (1.70%): PresShell::DoReflow (125358)\n",
      "  - 0.1444% (0.0001%):\n",
      "    Startup::XRE_Main\n",
      "    nsViewManager::DispatchEvent\n",
      "    nsRefreshDriver::Tick\n",
      "    PresShell::Flush\n",
      "    PresShell::DoReflow\n",
      "\n",
      "  - 0.0395% (0.0000%):\n",
      "    Startup::XRE_Main\n",
      "    nsViewManager::DispatchEvent\n",
      "    Timer::Fire\n",
      "    /modules/devtools/webconsole/webconsole.js:2070\n",
      "    /modules/devtools/webconsole/webconsole.js:4700\n",
      "    PresShell::Flush\n",
      "    PresShell::DoReflow\n",
      "\n",
      "  - 0.0334% (0.2911%):\n",
      "    Startup::XRE_Main\n",
      "    nsRefreshDriver::Tick\n",
      "    PresShell::Flush\n",
      "    PresShell::DoReflow\n",
      "\n",
      "0.27% (0.00%): IPDL::PNecko::RecvPHttpChannelConstructor (122972)\n",
      "  - 0.2717% (0.0002%):\n",
      "    Startup::XRE_Main\n",
      "    IPDL::PNecko::RecvPHttpChannelConstructor\n",
      "\n",
      "  - 0.0004% (0.0000%):\n",
      "    Startup::XRE_Main\n",
      "    Events::ProcessGeckoEvents\n",
      "    IPDL::PNecko::RecvPHttpChannelConstructor\n",
      "\n",
      "  - 0.0001% (0.0000%):\n",
      "    Startup::XRE_Main\n",
      "    gre/modules/Promise-backend.js:747\n",
      "    gre/modules/Promise-backend.js:805\n",
      "    gre/modules/Task.jsm:309\n",
      "    self-hosted:647\n",
      "    IPDL::PNecko::RecvPHttpChannelConstructor\n",
      "\n",
      "0.23% (0.03%): nsInputStreamPump::OnStateTransfer (103913)\n",
      "  - 0.2298% (0.0305%):\n",
      "    Startup::XRE_Main\n",
      "    nsInputStreamPump::OnInputStreamReady\n",
      "    nsInputStreamPump::OnStateTransfer\n",
      "\n",
      "  - 0.0001% (0.0004%):\n",
      "    Startup::XRE_Main\n",
      "    Events::ProcessGeckoEvents\n",
      "    nsInputStreamPump::OnInputStreamReady\n",
      "    nsInputStreamPump::OnStateTransfer\n",
      "\n",
      "  - 0.0001% (0.0001%):\n",
      "    Startup::XRE_Main\n",
      "    EventDispatcher::Dispatch\n",
      "    browser/content/browser.xul:1\n",
      "    nsBrowserGlue.js:265\n",
      "    browser/content/tabbrowser.xml:1987\n",
      "    gre/components/nsPrompter.js:78\n",
      "    nsInputStreamPump::OnInputStreamReady\n",
      "    nsInputStreamPump::OnStateTransfer\n",
      "\n",
      "0.22% (0.00%): IPDL::PCookieService::RecvSetCookieString (97497)\n",
      "  - 0.2150% (0.0000%):\n",
      "    Startup::XRE_Main\n",
      "    IPDL::PCookieService::RecvSetCookieString\n",
      "\n",
      "  - 0.0005% (0.0000%):\n",
      "    Startup::XRE_Main\n",
      "    nsViewManager::DispatchEvent\n",
      "    IPDL::PCookieService::RecvSetCookieString\n",
      "\n",
      "  - 0.0003% (0.0000%):\n",
      "    Startup::XRE_Main\n",
      "    gre/modules/services-sync/service.js:1263\n",
      "    services-sync/util.js:76\n",
      "    gre/modules/services-sync/service.js:1270\n",
      "    services-sync/util.js:76\n",
      "    services-sync/util.js:98\n",
      "    services-sync/util.js:146\n",
      "    gre/modules/services-sync/service.js:971\n",
      "    services-common/async.js:156\n",
      "    IPDL::PCookieService::RecvSetCookieString\n",
      "\n",
      "0.17% (0.00%): IPDL::PContent::RecvRpcMessage (77247)\n",
      "  - 0.1706% (0.0000%):\n",
      "    Startup::XRE_Main\n",
      "    IPDL::PContent::RecvRpcMessage\n",
      "\n",
      "  - 0.0005% (0.0000%):\n",
      "    Startup::XRE_Main\n",
      "    nsViewManager::DispatchEvent\n",
      "    IPDL::PContent::RecvRpcMessage\n",
      "\n",
      "  - 0.0000% (0.0000%):\n",
      "    Startup::XRE_Main\n",
      "    Events::ProcessGeckoEvents\n",
      "    IPDL::PContent::RecvRpcMessage\n",
      "\n",
      "0.17% (0.00%): IPDL::PStorage::RecvAsyncUpdateItem (76597)\n",
      "  - 0.1691% (0.0000%):\n",
      "    Startup::XRE_Main\n",
      "    IPDL::PStorage::RecvAsyncUpdateItem\n",
      "\n",
      "  - 0.0005% (0.0000%):\n",
      "    Startup::XRE_Main\n",
      "    nsViewManager::DispatchEvent\n",
      "    IPDL::PStorage::RecvAsyncUpdateItem\n",
      "\n",
      "  - 0.0000% (0.0000%):\n",
      "    Startup::XRE_Main\n",
      "    gre/modules/services-sync/service.js:1263\n",
      "    services-sync/util.js:76\n",
      "    gre/modules/services-sync/service.js:1270\n",
      "    gre/modules/services-sync/service.js:1290\n",
      "    services-sync/util.js:98\n",
      "    services-sync/util.js:146\n",
      "    gre/modules/services-sync/service.js:1293\n",
      "    services-sync/stages/enginesync.js:35\n",
      "    gre/modules/services-sync/service.js:554\n",
      "    services-sync/resource.js:430\n",
      "    services-common/async.js:98\n",
      "    IPDL::PStorage::RecvAsyncUpdateItem\n",
      "\n",
      "0.16% (0.00%): IPDL::PStorage::RecvAsyncRemoveItem (72238)\n",
      "  - 0.1600% (0.0000%):\n",
      "    Startup::XRE_Main\n",
      "    IPDL::PStorage::RecvAsyncRemoveItem\n",
      "\n",
      "0.16% (0.75%): nsCycleCollector::collectSlice (70287)\n",
      "  - 0.1544% (0.7026%):\n",
      "    Startup::XRE_Main\n",
      "    Timer::Fire\n",
      "    nsJSContext::RunCycleCollectorSlice\n",
      "    nsCycleCollector::collectSlice\n",
      "\n",
      "  - 0.0005% (0.0391%):\n",
      "    Startup::XRE_Main\n",
      "    Events::ProcessGeckoEvents\n",
      "    Timer::Fire\n",
      "    nsJSContext::RunCycleCollectorSlice\n",
      "    nsCycleCollector::collectSlice\n",
      "\n",
      "  - 0.0002% (0.0001%):\n",
      "    Startup::XRE_Main\n",
      "    nsViewManager::DispatchEvent\n",
      "    Timer::Fire\n",
      "    nsJSContext::RunCycleCollectorSlice\n",
      "    nsCycleCollector::collectSlice\n",
      "\n",
      "0.15% (0.00%): IPDL::PHttpChannel::AsyncSendOnProgress (68895)\n",
      "  - 0.1467% (0.0000%):\n",
      "    Startup::XRE_Main\n",
      "    nsInputStreamPump::OnInputStreamReady\n",
      "    nsInputStreamPump::OnStateTransfer\n",
      "    nsHttpChannel::OnDataAvailable\n",
      "    IPDL::PHttpChannel::AsyncSendOnProgress\n",
      "\n",
      "  - 0.0058% (0.0000%):\n",
      "    Startup::XRE_Main\n",
      "    IPDL::PHttpChannel::AsyncSendOnProgress\n",
      "\n",
      "  - 0.0000% (0.0000%):\n",
      "    Startup::XRE_Main\n",
      "    nsViewManager::DispatchEvent\n",
      "    nsInputStreamPump::OnInputStreamReady\n",
      "    nsInputStreamPump::OnStateTransfer\n",
      "    nsHttpChannel::OnDataAvailable\n",
      "    IPDL::PHttpChannel::AsyncSendOnProgress\n",
      "\n",
      "0.15% (0.29%): (chrome script) (67597)\n",
      "  - 0.0399% (0.0743%):\n",
      "    Startup::XRE_Main\n",
      "    (chrome script)\n",
      "    (chrome script)\n",
      "    (chrome script)\n",
      "\n",
      "  - 0.0117% (0.0220%):\n",
      "    Startup::XRE_Main\n",
      "    (chrome script)\n",
      "\n",
      "  - 0.0089% (0.0174%):\n",
      "    Startup::XRE_Main\n",
      "    IPDL::PCompositor::RecvDidComposite\n",
      "    EventDispatcher::Dispatch\n",
      "    (chrome script)\n",
      "    (chrome script)\n",
      "\n",
      "0.15% (0.17%): EventDispatcher::Dispatch (66752)\n",
      "  - 0.1064% (0.0634%):\n",
      "    Startup::XRE_Main\n",
      "    Timer::Fire\n",
      "    nsViewManager::DispatchEvent\n",
      "    EventDispatcher::Dispatch\n",
      "\n",
      "  - 0.0266% (0.0433%):\n",
      "    Startup::XRE_Main\n",
      "    nsViewManager::DispatchEvent\n",
      "    EventDispatcher::Dispatch\n",
      "\n",
      "  - 0.0064% (0.0004%):\n",
      "    Startup::XRE_Main\n",
      "    Timer::Fire\n",
      "    fireftp/content/js/etc/UIUpdate.js:4\n",
      "    EventDispatcher::Dispatch\n",
      "\n"
     ]
    }
   ],
   "source": [
    "print_top_frames(25, 3)"
   ]
  },
  {
   "cell_type": "code",
   "execution_count": null,
   "metadata": {
    "collapsed": true
   },
   "outputs": [],
   "source": []
  }
 ],
 "metadata": {
  "kernelspec": {
   "display_name": "Python 2",
   "language": "python",
   "name": "python2"
  },
  "language_info": {
   "codemirror_mode": {
    "name": "ipython",
    "version": 2
   },
   "file_extension": ".py",
   "mimetype": "text/x-python",
   "name": "python",
   "nbconvert_exporter": "python",
   "pygments_lexer": "ipython2",
   "version": "2.7.9"
  }
 },
 "nbformat": 4,
 "nbformat_minor": 0
}
