{
 "cells": [
  {
   "cell_type": "markdown",
   "metadata": {},
   "source": [
    "### E10S Experiment Aurora (crash rate)"
   ]
  },
  {
   "cell_type": "markdown",
   "metadata": {},
   "source": [
    "[Bug 1222890](https://bugzilla.mozilla.org/show_bug.cgi?id=1222890)\n",
    "\n",
    "This analysis tracks crash rate differences between e10s and non-e10s."
   ]
  },
  {
   "cell_type": "code",
   "execution_count": 1,
   "metadata": {
    "collapsed": false
   },
   "outputs": [
    {
     "name": "stdout",
     "output_type": "stream",
     "text": [
      "Unable to parse whitelist (/home/hadoop/anaconda/lib/python2.7/site-packages/moztelemetry/bucket-whitelist.json). Assuming all histograms are acceptable.\n",
      "Populating the interactive namespace from numpy and matplotlib\n"
     ]
    }
   ],
   "source": [
    "import ujson as json\n",
    "import matplotlib.pyplot as plt\n",
    "import pandas as pd\n",
    "import numpy as np\n",
    "import plotly.plotly as py\n",
    "import IPython\n",
    "\n",
    "from __future__ import division\n",
    "from moztelemetry.spark import get_pings, get_one_ping_per_client, get_pings_properties\n",
    "from montecarlino import grouped_permutation_test\n",
    "\n",
    "%pylab inline\n",
    "IPython.core.pylabtools.figsize(16, 7)"
   ]
  },
  {
   "cell_type": "code",
   "execution_count": 2,
   "metadata": {
    "collapsed": false
   },
   "outputs": [
    {
     "data": {
      "text/plain": [
       "128"
      ]
     },
     "execution_count": 2,
     "metadata": {},
     "output_type": "execute_result"
    }
   ],
   "source": [
    "sc.defaultParallelism"
   ]
  },
  {
   "cell_type": "markdown",
   "metadata": {},
   "source": [
    "#### Get e10s and non-e10s partitions"
   ]
  },
  {
   "cell_type": "code",
   "execution_count": 3,
   "metadata": {
    "collapsed": true
   },
   "outputs": [],
   "source": [
    "def is_in_e10s_experiment(ping):\n",
    "    try:\n",
    "        experiment = ping[\"environment\"][\"addons\"][\"activeExperiment\"]\n",
    "        return experiment[\"id\"] == \"e10s-enabled-aurora-20151020@experiments.mozilla.org\" and \\\n",
    "               (experiment[\"branch\"] == \"control\" or experiment[\"branch\"] == \"experiment\")   \n",
    "    except:\n",
    "        return False"
   ]
  },
  {
   "cell_type": "code",
   "execution_count": 4,
   "metadata": {
    "collapsed": true
   },
   "outputs": [],
   "source": [
    "def is_e10s_ping(ping):\n",
    "    return ping[\"environment\"][\"settings\"][\"e10sEnabled\"]"
   ]
  },
  {
   "cell_type": "code",
   "execution_count": 5,
   "metadata": {
    "collapsed": false
   },
   "outputs": [],
   "source": [
    "def strip_date(date):\n",
    "    return date[:10].replace(\"-\", \"\")\n",
    "\n",
    "def is_sensible_creation_date(ping):\n",
    "    creation_date = strip_date(ping[\"creationDate\"])\n",
    "    submission_date = strip_date(ping[\"meta\"][\"submissionDate\"])\n",
    "    return creation_date == submission_date"
   ]
  },
  {
   "cell_type": "markdown",
   "metadata": {},
   "source": [
    "### Pings"
   ]
  },
  {
   "cell_type": "code",
   "execution_count": 6,
   "metadata": {
    "collapsed": false
   },
   "outputs": [],
   "source": [
    "PER_ADI = 100\n",
    "PING_OPTIONS = { \"app\": \"Firefox\", \"channel\": \"aurora\", \"version\": \"43.0a2\", \"submission_date\": (\"20151023\", \"20151027\") }"
   ]
  },
  {
   "cell_type": "code",
   "execution_count": 7,
   "metadata": {
    "collapsed": false
   },
   "outputs": [],
   "source": [
    "session_pings = get_pings(sc, **PING_OPTIONS).filter(is_in_e10s_experiment).filter(is_sensible_creation_date)"
   ]
  },
  {
   "cell_type": "markdown",
   "metadata": {},
   "source": [
    "Make sure it's not the first session ping as the experiment branch will not be enforced until the next restart"
   ]
  },
  {
   "cell_type": "code",
   "execution_count": 8,
   "metadata": {
    "collapsed": false
   },
   "outputs": [],
   "source": [
    "# TODO: Add get_ping_properties to moztelemetry?\n",
    "def get_ping_properties(ping, paths, only_median=False, with_processes=False):\n",
    "    from moztelemetry.spark import _get_ping_properties\n",
    "    if type(paths) == str:\n",
    "        paths = [paths]\n",
    "\n",
    "    # Use '/' as dots can appear in keyed histograms\n",
    "    paths = [(path, path.split(\"/\")) for path in paths]\n",
    "    return _get_ping_properties(ping, paths, only_median, with_processes)\n",
    "\n",
    "first_session_ping_of_client = \\\n",
    "      session_pings.map(lambda p: (p[\"clientId\"], p))\\\n",
    "     .reduceByKey(lambda x, y: x if x[\"meta\"][\"creationTimestamp\"] < y[\"meta\"][\"creationTimestamp\"] else y)\\\n",
    "     .map(lambda p: (p[0], get_ping_properties(p[1], [\"meta/documentId\", \"meta/creationTimestamp\"])))\\\n",
    "     .collectAsMap()"
   ]
  },
  {
   "cell_type": "code",
   "execution_count": 9,
   "metadata": {
    "collapsed": false
   },
   "outputs": [],
   "source": [
    "def not_first_session(ping):\n",
    "    return not ping[\"meta\"][\"documentId\"] in first_session_ping_of_client[ping[\"clientId\"]][\"meta/documentId\"]\n",
    "\n",
    "session_pings = session_pings.filter(not_first_session)"
   ]
  },
  {
   "cell_type": "code",
   "execution_count": 10,
   "metadata": {
    "collapsed": true
   },
   "outputs": [],
   "source": [
    "e10s_session_pings = session_pings.filter(lambda p: is_e10s_ping(p))\n",
    "non_e10s_session_pings = session_pings.filter(lambda p: not is_e10s_ping(p))"
   ]
  },
  {
   "cell_type": "markdown",
   "metadata": {},
   "source": [
    "How many crashes did we have in total?"
   ]
  },
  {
   "cell_type": "code",
   "execution_count": 11,
   "metadata": {
    "collapsed": false
   },
   "outputs": [],
   "source": [
    "crash_pings = get_pings(sc, doc_type=\"crash\", **PING_OPTIONS).filter(is_in_e10s_experiment).filter(is_sensible_creation_date)"
   ]
  },
  {
   "cell_type": "code",
   "execution_count": 12,
   "metadata": {
    "collapsed": false
   },
   "outputs": [
    {
     "data": {
      "text/plain": [
       "5872"
      ]
     },
     "execution_count": 12,
     "metadata": {},
     "output_type": "execute_result"
    }
   ],
   "source": [
    "crash_pings.count()"
   ]
  },
  {
   "cell_type": "markdown",
   "metadata": {},
   "source": [
    "How many crash pings don't have a clientId?"
   ]
  },
  {
   "cell_type": "code",
   "execution_count": 13,
   "metadata": {
    "collapsed": false
   },
   "outputs": [
    {
     "data": {
      "text/plain": [
       "8"
      ]
     },
     "execution_count": 13,
     "metadata": {},
     "output_type": "execute_result"
    }
   ],
   "source": [
    "def has_client_id(ping):\n",
    "    return ping.get(\"clientId\")\n",
    "\n",
    "crash_pings.filter(lambda p: not has_client_id(p)).count()"
   ]
  },
  {
   "cell_type": "markdown",
   "metadata": {},
   "source": [
    "Exclude them"
   ]
  },
  {
   "cell_type": "code",
   "execution_count": 14,
   "metadata": {
    "collapsed": true
   },
   "outputs": [],
   "source": [
    "crash_pings = crash_pings.filter(has_client_id)"
   ]
  },
  {
   "cell_type": "markdown",
   "metadata": {},
   "source": [
    "How many crash pings occured before the first session ping?"
   ]
  },
  {
   "cell_type": "code",
   "execution_count": 15,
   "metadata": {
    "collapsed": false
   },
   "outputs": [
    {
     "data": {
      "text/plain": [
       "1171"
      ]
     },
     "execution_count": 15,
     "metadata": {},
     "output_type": "execute_result"
    }
   ],
   "source": [
    "def is_after_first_session_timestamp(ping):\n",
    "    first_session_ping = first_session_ping_of_client.get(ping[\"clientId\"])\n",
    "    return first_session_ping and ping[\"meta\"][\"creationTimestamp\"] > first_session_ping[\"meta/creationTimestamp\"]\n",
    "\n",
    "crash_pings.filter(lambda p: not is_after_first_session_timestamp(p)).count()"
   ]
  },
  {
   "cell_type": "markdown",
   "metadata": {},
   "source": [
    "Exclude them"
   ]
  },
  {
   "cell_type": "code",
   "execution_count": 16,
   "metadata": {
    "collapsed": false
   },
   "outputs": [],
   "source": [
    "crash_pings = crash_pings.filter(is_after_first_session_timestamp)"
   ]
  },
  {
   "cell_type": "code",
   "execution_count": 17,
   "metadata": {
    "collapsed": false
   },
   "outputs": [],
   "source": [
    "e10s_crash_pings = crash_pings.filter(lambda p: is_e10s_ping(p))\n",
    "non_e10s_crash_pings = crash_pings.filter(lambda p: not is_e10s_ping(p))"
   ]
  },
  {
   "cell_type": "markdown",
   "metadata": {},
   "source": [
    "### Crashes per ADI"
   ]
  },
  {
   "cell_type": "code",
   "execution_count": 18,
   "metadata": {
    "collapsed": true
   },
   "outputs": [],
   "source": [
    "def get_crash_rate_per_day(sessions, crashes):\n",
    "    sessions_per_day = sessions.map(lambda p: (strip_date(p[\"creationDate\"]), 0)).countByKey()\n",
    "    crashes_per_day = crashes.map(lambda p: (strip_date(p[\"payload\"][\"crashDate\"]), 0)).countByKey()\n",
    "    return { k: (float(crashes_per_day.get(k, 0)) / sessions_per_day.get(k, 1)) * PER_ADI for k in set(sessions_per_day) }"
   ]
  },
  {
   "cell_type": "code",
   "execution_count": 19,
   "metadata": {
    "collapsed": false
   },
   "outputs": [],
   "source": [
    "e10s_crash_rate_per_day = get_crash_rate_per_day(e10s_session_pings, e10s_crash_pings)"
   ]
  },
  {
   "cell_type": "code",
   "execution_count": 20,
   "metadata": {
    "collapsed": false
   },
   "outputs": [],
   "source": [
    "non_e10s_crash_rate_per_day = get_crash_rate_per_day(non_e10s_session_pings,  non_e10s_crash_pings)"
   ]
  },
  {
   "cell_type": "code",
   "execution_count": 21,
   "metadata": {
    "collapsed": false
   },
   "outputs": [
    {
     "data": {
      "image/png": "[encoded data removed]",
      "text/plain": [
       "<matplotlib.figure.Figure at 0x7f936c2eab90>"
      ]
     },
     "metadata": {},
     "output_type": "display_data"
    }
   ],
   "source": [
    "data = { \"e10s\": pd.Series(e10s_crash_rate_per_day),\n",
    "         \"non-e10s\": pd.Series(non_e10s_crash_rate_per_day) }\n",
    "df = pd.DataFrame(data)\n",
    "df.plot()\n",
    "plt.xlabel(\"date\")\n",
    "plt.ylabel(\"crashes per %d ADI\" % PER_ADI)\n",
    "plt.show()"
   ]
  },
  {
   "cell_type": "markdown",
   "metadata": {},
   "source": [
    "### Crashes per client"
   ]
  },
  {
   "cell_type": "code",
   "execution_count": 22,
   "metadata": {
    "collapsed": true
   },
   "outputs": [],
   "source": [
    "def get_crashes_per_client(crashes):\n",
    "    return crashes.map(lambda p: (p[\"clientId\"], 0)).countByKey()"
   ]
  },
  {
   "cell_type": "code",
   "execution_count": 23,
   "metadata": {
    "collapsed": false
   },
   "outputs": [],
   "source": [
    "e10s_crashes_per_client = get_crashes_per_client(e10s_crash_pings)"
   ]
  },
  {
   "cell_type": "code",
   "execution_count": 24,
   "metadata": {
    "collapsed": true
   },
   "outputs": [],
   "source": [
    "non_e10s_crashes_per_client = get_crashes_per_client(non_e10s_crash_pings)"
   ]
  },
  {
   "cell_type": "code",
   "execution_count": 25,
   "metadata": {
    "collapsed": false
   },
   "outputs": [
    {
     "data": {
      "image/png": "[encoded data removed]",
      "text/plain": [
       "<matplotlib.figure.Figure at 0x7f932c51d7d0>"
      ]
     },
     "metadata": {},
     "output_type": "display_data"
    }
   ],
   "source": [
    "data = (e10s_crashes_per_client.values(), non_e10s_crashes_per_client.values())\n",
    "plt.hist(data, label=(\"e10s\", \"non-e10s\"), histtype='bar', bins=45, alpha=0.5)\n",
    "plt.grid(True)\n",
    "plt.xlabel(\"client crash count\")\n",
    "plt.ylabel(\"frequency\")\n",
    "plt.legend()\n",
    "plt.show()"
   ]
  }
 ],
 "metadata": {
  "kernelspec": {
   "display_name": "Python 2",
   "language": "python",
   "name": "python2"
  },
  "language_info": {
   "codemirror_mode": {
    "name": "ipython",
    "version": 2
   },
   "file_extension": ".py",
   "mimetype": "text/x-python",
   "name": "python",
   "nbconvert_exporter": "python",
   "pygments_lexer": "ipython2",
   "version": "2.7.9"
  }
 },
 "nbformat": 4,
 "nbformat_minor": 0
}
