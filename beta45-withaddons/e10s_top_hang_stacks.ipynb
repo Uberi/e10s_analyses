{
 "cells": [
  {
   "cell_type": "markdown",
   "metadata": {},
   "source": [
    "### E10S Experiment Beta 45 (with addons): Top hang stacks"
   ]
  },
  {
   "cell_type": "markdown",
   "metadata": {},
   "source": [
    "[Bug 1222972](https://bugzilla.mozilla.org/show_bug.cgi?id=1222972)\n",
    "\n",
    "This analysis compares e10s and non-e10s hang stacks and their frequencies."
   ]
  },
  {
   "cell_type": "code",
   "execution_count": 1,
   "metadata": {
    "collapsed": false
   },
   "outputs": [
    {
     "name": "stdout",
     "output_type": "stream",
     "text": [
      "Unable to parse whitelist (/home/hadoop/anaconda2/lib/python2.7/site-packages/moztelemetry/bucket-whitelist.json). Assuming all histograms are acceptable.\n",
      "Populating the interactive namespace from numpy and matplotlib\n"
     ]
    }
   ],
   "source": [
    "import ujson as json\n",
    "import matplotlib.pyplot as plt\n",
    "import pandas as pd\n",
    "import numpy as np\n",
    "import plotly.plotly as py\n",
    "import IPython\n",
    "import functools\n",
    "\n",
    "from __future__ import division\n",
    "from moztelemetry.spark import get_pings, get_one_ping_per_client, get_pings_properties\n",
    "from montecarlino import grouped_permutation_test\n",
    "\n",
    "%pylab inline\n",
    "IPython.core.pylabtools.figsize(16, 7)"
   ]
  },
  {
   "cell_type": "code",
   "execution_count": 2,
   "metadata": {
    "collapsed": false
   },
   "outputs": [
    {
     "data": {
      "text/plain": [
       "128"
      ]
     },
     "execution_count": 2,
     "metadata": {},
     "output_type": "execute_result"
    }
   ],
   "source": [
    "sc.defaultParallelism"
   ]
  },
  {
   "cell_type": "markdown",
   "metadata": {},
   "source": [
    "#### Get e10s and non-e10s partitions"
   ]
  },
  {
   "cell_type": "code",
   "execution_count": 3,
   "metadata": {
    "collapsed": false
   },
   "outputs": [],
   "source": [
    "dataset = sqlContext.read.load(\"s3://telemetry-parquet/e10s-experiment/e10s-beta45-withaddons@experiments.mozilla.org/generationDate=20160201\", \"parquet\")"
   ]
  },
  {
   "cell_type": "markdown",
   "metadata": {},
   "source": [
    "How many pings do we have in each branch?"
   ]
  },
  {
   "cell_type": "code",
   "execution_count": 4,
   "metadata": {
    "collapsed": false
   },
   "outputs": [
    {
     "data": {
      "text/plain": [
       "186828"
      ]
     },
     "execution_count": 4,
     "metadata": {},
     "output_type": "execute_result"
    }
   ],
   "source": [
    "dataset.filter(dataset[\"experimentBranch\"] == \"experiment\").count()"
   ]
  },
  {
   "cell_type": "code",
   "execution_count": 5,
   "metadata": {
    "collapsed": false
   },
   "outputs": [
    {
     "data": {
      "text/plain": [
       "197241"
      ]
     },
     "execution_count": 5,
     "metadata": {},
     "output_type": "execute_result"
    }
   ],
   "source": [
    "dataset.filter(dataset[\"experimentBranch\"] == \"control\").count()"
   ]
  },
  {
   "cell_type": "markdown",
   "metadata": {},
   "source": [
    "Sample by cliet ID"
   ]
  },
  {
   "cell_type": "code",
   "execution_count": 6,
   "metadata": {
    "collapsed": true
   },
   "outputs": [],
   "source": [
    "sampled = dataset.filter(dataset.sampleId <= 20)"
   ]
  },
  {
   "cell_type": "code",
   "execution_count": 7,
   "metadata": {
    "collapsed": false
   },
   "outputs": [
    {
     "data": {
      "text/plain": [
       "80189"
      ]
     },
     "execution_count": 7,
     "metadata": {},
     "output_type": "execute_result"
    }
   ],
   "source": [
    "sampled.count()"
   ]
  },
  {
   "cell_type": "markdown",
   "metadata": {},
   "source": [
    "Transform Dataframe to RDD of pings"
   ]
  },
  {
   "cell_type": "code",
   "execution_count": 8,
   "metadata": {
    "collapsed": true
   },
   "outputs": [],
   "source": [
    "def row_2_ping(row):\n",
    "    ping = {\"payload\": {\"threadHangStats\": json.loads(row.threadHangStats)},\n",
    "            \"e10s\": True if row.experimentBranch == \"experiment\" else False}\n",
    "    return ping"
   ]
  },
  {
   "cell_type": "code",
   "execution_count": 9,
   "metadata": {
    "collapsed": false
   },
   "outputs": [],
   "source": [
    "subset = sampled.rdd.map(row_2_ping)"
   ]
  },
  {
   "cell_type": "markdown",
   "metadata": {},
   "source": [
    "### Thread activity"
   ]
  },
  {
   "cell_type": "code",
   "execution_count": 10,
   "metadata": {
    "collapsed": true
   },
   "outputs": [],
   "source": [
    "def chi2_distance(xs, ys, eps = 1e-10, normalize = True):\n",
    "    histA = xs.sum(axis=0)\n",
    "    histB = ys.sum(axis=0)\n",
    "    \n",
    "    if normalize:\n",
    "        histA = histA/histA.sum()\n",
    "        histB = histB/histB.sum()\n",
    "    \n",
    "    d = 0.5 * np.sum([((a - b) ** 2) / (a + b + eps)\n",
    "        for (a, b) in zip(histA, histB)])\n",
    "\n",
    "    return d\n",
    "\n",
    "def ignore_below_(min_limit, histogram):\n",
    "    histogram = histogram.ix[129:].set_value(0, histogram.ix[0: 128].sum()).sort_index()\n",
    "    histogram = histogram.ix[min_limit:]\n",
    "    return histogram\n",
    "\n",
    "def ignore_below(histograms, min_limit=0):\n",
    "    return histograms.map(functools.partial(ignore_below_, min_limit))\n",
    "\n",
    "def normalize(histograms):\n",
    "    return histograms.map(lambda h: h/max(h.sum(), 1))\n",
    "\n",
    "def compare_histogram(histogram, e10s, none10s):\n",
    "    pvalue = grouped_permutation_test(chi2_distance, [e10s, none10s], num_samples=100)\n",
    "    \n",
    "    eTotal = e10s.sum()\n",
    "    nTotal = none10s.sum()\n",
    "        \n",
    "    eTotal = 100*eTotal/eTotal.sum()\n",
    "    nTotal = 100*nTotal/nTotal.sum()\n",
    "        \n",
    "    fig = plt.figure()\n",
    "    fig.subplots_adjust(hspace=0.3)\n",
    "        \n",
    "    ax = fig.add_subplot(1, 1, 1)\n",
    "    ax2 = ax.twinx()\n",
    "    width = 0.4\n",
    "    ylim = max(eTotal.max(), nTotal.max())\n",
    "        \n",
    "    eTotal.plot(kind=\"bar\", alpha=0.5, color=\"green\", label=\"e10s\", ax=ax, width=width, position=0, ylim=(0, ylim + 1))\n",
    "    nTotal.plot(kind=\"bar\", alpha=0.5, color=\"blue\", label=\"non e10s\", ax=ax2, width=width, position=1, grid=False, ylim=ax.get_ylim())\n",
    "        \n",
    "    ax.legend(ax.get_legend_handles_labels()[0] + ax2.get_legend_handles_labels()[0],\n",
    "              [\"e10s ({} samples\".format(len(e10s)), \"non e10s ({} samples)\".format(len(none10s))])\n",
    "\n",
    "    plt.title(histogram)\n",
    "    plt.xlabel(histogram)\n",
    "    plt.ylabel(\"Frequency %\")\n",
    "    plt.show()\n",
    "        \n",
    "    print \"The probability that the distributions for {} are differing by chance is {:.2f}.\".format(histogram, pvalue)\n",
    "\n",
    "def compare_histograms(histogram, e10s, none10s, min_limit):\n",
    "    e10s = ignore_below(e10s, min_limit)\n",
    "    none10s = ignore_below(none10s, min_limit)\n",
    "    compare_histogram(histogram + \" (normalized)\", normalize(e10s), normalize(none10s))\n",
    "    compare_histogram(histogram + \" (absolute)\", e10s, none10s)"
   ]
  },
  {
   "cell_type": "code",
   "execution_count": 11,
   "metadata": {
    "collapsed": false
   },
   "outputs": [],
   "source": [
    "# Manually massage the thread activity histogram into payload/histograms so that\n",
    "# get_pings_properties will treat is a histogram.\n",
    "def get_activity(ping):\n",
    "    for thread in ping[\"payload\"][\"threadHangStats\"]:\n",
    "        if thread[\"name\"] != \"Gecko\":\n",
    "            continue\n",
    "\n",
    "        values = {str(int(k) + 1): v for k, v in thread[\"activity\"][\"values\"].iteritems()}                                        \n",
    "        yield {\"e10s\": ping[\"e10s\"], \"payload\": {\"histograms\": {\"GECKO_THREAD_ACTIVITY_MS\": {\"values\": values}}}}\n",
    "\n",
    "def compare_thread_activity(pings, name, min_limit=0, normalize=True):\n",
    "    histograms = json.loads(\"\"\"\n",
    "    {\n",
    "      \"GECKO_THREAD_ACTIVITY_MS\": {\n",
    "        \"expires_in_version\": \"default\",\n",
    "        \"kind\": \"exponential\",\n",
    "        \"high\": \"2**24\",\n",
    "        \"n_buckets\": 26,\n",
    "        \"description\": \"\"\n",
    "      }\n",
    "    }\n",
    "    \"\"\")\n",
    "                \n",
    "    histogram = \"payload/histograms/GECKO_THREAD_ACTIVITY_MS\"\n",
    "    props = get_pings_properties(pings.flatMap(get_activity), [\"e10s\", histogram], additional_histograms=histograms)\n",
    "    frame = pd.DataFrame(props.collect())\n",
    "    \n",
    "    e10s = frame[frame[\"e10s\"] == True]\n",
    "    none10s = frame[frame[\"e10s\"] == False]\n",
    "    \n",
    "    compare_histograms(histogram, e10s[histogram].dropna(), none10s[histogram].dropna(), min_limit)"
   ]
  },
  {
   "cell_type": "markdown",
   "metadata": {},
   "source": [
    "#### Parent main thread activity with 64ms and below buckets merged into the 0 bucket"
   ]
  },
  {
   "cell_type": "code",
   "execution_count": 12,
   "metadata": {
    "collapsed": false
   },
   "outputs": [
    {
     "data": {
      "image/png": "[encoded data removed]",
      "text/plain": [
       "<matplotlib.figure.Figure at 0x7f18320c8050>"
      ]
     },
     "metadata": {},
     "output_type": "display_data"
    },
    {
     "name": "stdout",
     "output_type": "stream",
     "text": [
      "The probability that the distributions for payload/histograms/GECKO_THREAD_ACTIVITY_MS (normalized) are differing by chance is 0.00.\n"
     ]
    },
    {
     "data": {
      "image/png": "[encoded data removed]",
      "text/plain": [
       "<matplotlib.figure.Figure at 0x7f17f2eb3c50>"
      ]
     },
     "metadata": {},
     "output_type": "display_data"
    },
    {
     "name": "stdout",
     "output_type": "stream",
     "text": [
      "The probability that the distributions for payload/histograms/GECKO_THREAD_ACTIVITY_MS (absolute) are differing by chance is 0.00.\n"
     ]
    }
   ],
   "source": [
    "compare_thread_activity(subset, \"Gecko\", 0)"
   ]
  },
  {
   "cell_type": "markdown",
   "metadata": {},
   "source": [
    "#### Parent main thread activity with buckets below 128-255ms ignored completely"
   ]
  },
  {
   "cell_type": "code",
   "execution_count": 13,
   "metadata": {
    "collapsed": false
   },
   "outputs": [
    {
     "data": {
      "image/png": "[encoded data removed]",
      "text/plain": [
       "<matplotlib.figure.Figure at 0x7f1802a85a10>"
      ]
     },
     "metadata": {},
     "output_type": "display_data"
    },
    {
     "name": "stdout",
     "output_type": "stream",
     "text": [
      "The probability that the distributions for payload/histograms/GECKO_THREAD_ACTIVITY_MS (normalized) are differing by chance is 0.00.\n"
     ]
    },
    {
     "data": {
      "image/png": "[encoded data removed]",
      "text/plain": [
       "<matplotlib.figure.Figure at 0x7f180249ce50>"
      ]
     },
     "metadata": {},
     "output_type": "display_data"
    },
    {
     "name": "stdout",
     "output_type": "stream",
     "text": [
      "The probability that the distributions for payload/histograms/GECKO_THREAD_ACTIVITY_MS (absolute) are differing by chance is 0.00.\n"
     ]
    }
   ],
   "source": [
    "compare_thread_activity(subset, \"Gecko\", 256)"
   ]
  },
  {
   "cell_type": "markdown",
   "metadata": {},
   "source": [
    "#### Get top stacks"
   ]
  },
  {
   "cell_type": "code",
   "execution_count": 14,
   "metadata": {
    "collapsed": false
   },
   "outputs": [],
   "source": [
    "def get_stacks(subset):\n",
    "    def yield_ping_stacks(ping):\n",
    "        for thread in ping[\"payload\"][\"threadHangStats\"]:\n",
    "            if thread[\"name\"] != \"Gecko\":\n",
    "                continue\n",
    "            for hang in thread[\"hangs\"]:\n",
    "                if not hang[\"stack\"]:\n",
    "                    continue\n",
    "                values = hang[\"histogram\"][\"values\"]\n",
    "                histogram = pd.Series(values.values(), index=map(int, values.keys())).sort_index()\n",
    "                over_min_ms_count = histogram[histogram.index >= 255].sum()\n",
    "                yield (tuple(hang[\"stack\"]), over_min_ms_count)\n",
    "    return subset.flatMap(yield_ping_stacks).reduceByKey(lambda a, b: a + b).collectAsMap()"
   ]
  },
  {
   "cell_type": "code",
   "execution_count": 15,
   "metadata": {
    "collapsed": false
   },
   "outputs": [],
   "source": [
    "we10s_stacks = get_stacks(subset.filter(lambda p: p[\"e10s\"]))"
   ]
  },
  {
   "cell_type": "code",
   "execution_count": 16,
   "metadata": {
    "collapsed": false
   },
   "outputs": [],
   "source": [
    "ne10s_stacks = get_stacks(subset.filter(lambda p: not p[\"e10s\"]))"
   ]
  },
  {
   "cell_type": "code",
   "execution_count": 17,
   "metadata": {
    "collapsed": true
   },
   "outputs": [],
   "source": [
    "def group_by_top_frame(stacks):\n",
    "    total_hits = 0\n",
    "    top_frames = {}\n",
    "    for stack, hits in stacks.iteritems():\n",
    "        stack_top_frame = stack[-1]\n",
    "        if not stack_top_frame in top_frames:\n",
    "            top_frames[stack_top_frame] = { \"frame\": stack_top_frame, \"stacks\": [], \"hits\": 0 }\n",
    "\n",
    "        top_frame = top_frames[stack_top_frame]\n",
    "\n",
    "        # Keep stacks sorted by hits.\n",
    "        top_frame[\"stacks\"].append((stack, hits))\n",
    "        top_frame[\"stacks\"].sort(key=lambda d: d[1], reverse=True)\n",
    "\n",
    "        top_frame[\"hits\"] += hits\n",
    "        total_hits += hits\n",
    "\n",
    "    return top_frames, total_hits\n",
    "\n",
    "def get_stack_hits(stacks, stack):\n",
    "    for s, h in stacks:\n",
    "        if s == stack:\n",
    "            return h\n",
    "    return 0"
   ]
  },
  {
   "cell_type": "code",
   "execution_count": 18,
   "metadata": {
    "collapsed": false
   },
   "outputs": [],
   "source": [
    "we10s_groups, we10s_total_hits = group_by_top_frame(we10s_stacks)"
   ]
  },
  {
   "cell_type": "code",
   "execution_count": 19,
   "metadata": {
    "collapsed": false
   },
   "outputs": [],
   "source": [
    "ne10s_groups, ne10s_total_hits = group_by_top_frame(ne10s_stacks)"
   ]
  },
  {
   "cell_type": "markdown",
   "metadata": {},
   "source": [
    "### Top stacks grouped by top frame"
   ]
  },
  {
   "cell_type": "code",
   "execution_count": 20,
   "metadata": {
    "collapsed": false
   },
   "outputs": [],
   "source": [
    "we10s_sorted_groups = sorted(we10s_groups.values(), key=lambda d: d[\"hits\"], reverse=True)\n",
    "\n",
    "def print_e10s_groups(group_count, stack_count):\n",
    "    for we10s_group in we10s_sorted_groups[0:group_count]:\n",
    "        ne10s_group = ne10s_groups.get(we10s_group[\"frame\"], {})\n",
    "        ne10s_stacks = ne10s_group.get(\"stacks\", [])\n",
    "        ne10s_hits = ne10s_group.get(\"hits\", 0)\n",
    "\n",
    "        print \"{:.2f}% ({:.2f}%): {} ({})\".format(\n",
    "            100.0 * we10s_group[\"hits\"] / we10s_total_hits,\n",
    "            100.0 * ne10s_hits / ne10s_total_hits,\n",
    "            we10s_group[\"frame\"],\n",
    "            we10s_group[\"hits\"])\n",
    "        for we10s_stack, we10s_stack_hits in we10s_group[\"stacks\"][0:stack_count]:\n",
    "            ne10s_stack_hits = get_stack_hits(ne10s_stacks, we10s_stack)\n",
    "            print \"  - {:.4f}% ({:.4f}%):\".format(\n",
    "                100.0 * we10s_stack_hits / we10s_total_hits,\n",
    "                100.0 * ne10s_stack_hits / ne10s_total_hits)\n",
    "            print \"    {}\\n\".format(\"\\n    \".join(reversed(we10s_stack)))"
   ]
  },
  {
   "cell_type": "markdown",
   "metadata": {},
   "source": [
    "#### Parent process top frames"
   ]
  },
  {
   "cell_type": "markdown",
   "metadata": {},
   "source": [
    "The results are in the form: `e10s% (non-e10s%): top frame (total e10s hits)`"
   ]
  },
  {
   "cell_type": "code",
   "execution_count": 21,
   "metadata": {
    "collapsed": false,
    "scrolled": false
   },
   "outputs": [
    {
     "name": "stdout",
     "output_type": "stream",
     "text": [
      "23.91% (4.59%): Startup::XRE_Main (625846)\n",
      "14.06% (0.00%): IPDL::PJavaScript::SendGet (368110)\n",
      "8.69% (0.73%): nsFilePicker::ShowFilePicker (227423)\n",
      "3.44% (0.00%): IPDL::PJavaScript::SendCallOrConstruct (89992)\n",
      "3.18% (0.87%): (chrome script) (83217)\n",
      "2.92% (12.94%): js::GCRuntime::collect (76432)\n",
      "2.47% (0.00%): IPDL::PJavaScript::SendGetPropertyDescriptor (64602)\n",
      "2.08% (0.54%): self-hosted:649 (54321)\n",
      "1.37% (5.21%): PresShell::DoReflow (35944)\n",
      "1.30% (0.00%): IPDL::PPrinting::RecvShowPrintDialog (33992)\n",
      "1.08% (0.47%): app/modules/WindowsJumpLists.jsm:316 (28261)\n",
      "1.03% (0.13%): app/modules/WindowsJumpLists.jsm:270 (26971)\n",
      "0.92% (0.24%): nsInputStreamPump::OnStateStop (24166)\n",
      "0.91% (0.36%): gre/modules/TelemetryController.jsm:282 (23717)\n",
      "0.85% (0.00%): CPOWProxyHandler::get (22142)\n",
      "0.84% (0.14%): nsXREDirProvider::DoShutdown (22086)\n",
      "0.74% (3.77%): IPDL::PLayerTransaction::SendUpdate (19418)\n",
      "0.73% (0.18%): browser/content/browser.xul:1 (19004)\n",
      "0.71% (0.24%): mozilla::ipc::GeckoChildProcessHost::WaitUntilConnected (18642)\n",
      "0.65% (0.16%): mozilla::scache::StartupCache::GetBuffer (17098)\n",
      "0.65% (0.97%): PresShell::Flush (16896)\n",
      "0.62% (0.11%): xpc::AddonWrapper<class js::CrossCompartmentWrapper>::get (16181)\n",
      "0.58% (0.52%): Timer::Fire (15305)\n",
      "0.58% (0.65%): DisplayList::Draw (15124)\n",
      "0.57% (0.14%): Statement::ExecuteStep (14907)\n"
     ]
    }
   ],
   "source": [
    "print_e10s_groups(25, 0)"
   ]
  },
  {
   "cell_type": "markdown",
   "metadata": {},
   "source": [
    "#### Parent process top stacks for top frames"
   ]
  },
  {
   "cell_type": "code",
   "execution_count": 22,
   "metadata": {
    "collapsed": false
   },
   "outputs": [
    {
     "name": "stdout",
     "output_type": "stream",
     "text": [
      "23.91% (4.59%): Startup::XRE_Main (625846)\n",
      "  - 23.9088% (4.5939%):\n",
      "    Startup::XRE_Main\n",
      "\n",
      "14.06% (0.00%): IPDL::PJavaScript::SendGet (368110)\n",
      "  - 1.8640% (0.0000%):\n",
      "    IPDL::PJavaScript::SendGet\n",
      "    CPOWProxyHandler::get\n",
      "    xpc::AddonWrapper<class js::CrossCompartmentWrapper>::get\n",
      "    idmhelper5.js:99\n",
      "    idmhelper8.js:45\n",
      "    IPDL::PContent::RecvRpcMessage\n",
      "    Startup::XRE_Main\n",
      "\n",
      "  - 1.5338% (0.0000%):\n",
      "    IPDL::PJavaScript::SendGet\n",
      "    CPOWProxyHandler::get\n",
      "    xpc::AddonWrapper<class js::CrossCompartmentWrapper>::get\n",
      "    saff/content/annotationEngine.js:152\n",
      "    Timer::Fire\n",
      "    Startup::XRE_Main\n",
      "\n",
      "  - 1.0090% (0.0000%):\n",
      "    IPDL::PJavaScript::SendGet\n",
      "    CPOWProxyHandler::get\n",
      "    xpc::AddonWrapper<class js::CrossCompartmentWrapper>::get\n",
      "    saff/content/annotationEngine.js:148\n",
      "    Timer::Fire\n",
      "    Startup::XRE_Main\n",
      "\n",
      "8.69% (0.73%): nsFilePicker::ShowFilePicker (227423)\n",
      "  - 8.2615% (0.6796%):\n",
      "    nsFilePicker::ShowFilePicker\n",
      "    Startup::XRE_Main\n",
      "\n",
      "  - 0.2646% (0.0428%):\n",
      "    nsFilePicker::ShowFilePicker\n",
      "    gre/components/nsHelperAppDlg.js:311\n",
      "    gre/modules/DownloadLastDir.jsm:162\n",
      "    gre/modules/ContentPrefUtils.jsm:36\n",
      "    gre/modules/ContentPrefService2.jsm:146\n",
      "    gre/modules/ContentPrefService2.jsm:738\n",
      "    Startup::XRE_Main\n",
      "\n",
      "  - 0.1109% (0.0001%):\n",
      "    nsFilePicker::ShowFilePicker\n",
      "    global/content/bindings/dialog.xml:335\n",
      "    EventDispatcher::Dispatch\n",
      "    nsViewManager::DispatchEvent\n",
      "    nsXULWindow::ShowModal\n",
      "    gre/components/nsHelperAppDlg.js:781\n",
      "    mozapps/content/downloads/unknownContentType.xul:1\n",
      "    EventDispatcher::Dispatch\n",
      "    Startup::XRE_Main\n",
      "\n",
      "3.44% (0.00%): IPDL::PJavaScript::SendCallOrConstruct (89992)\n",
      "  - 0.5265% (0.0000%):\n",
      "    IPDL::PJavaScript::SendCallOrConstruct\n",
      "    CPOWProxyHandler::call\n",
      "    saff/content/annotationEngine.js:152\n",
      "    Timer::Fire\n",
      "    Startup::XRE_Main\n",
      "\n",
      "  - 0.3247% (0.0000%):\n",
      "    IPDL::PJavaScript::SendCallOrConstruct\n",
      "    CPOWProxyHandler::call\n",
      "    saff/content/annotationEngine.js:148\n",
      "    Timer::Fire\n",
      "    Startup::XRE_Main\n",
      "\n",
      "  - 0.3018% (0.0000%):\n",
      "    IPDL::PJavaScript::SendCallOrConstruct\n",
      "    CPOWProxyHandler::call\n",
      "    CPOWDOMQI\n",
      "    idmhelper5.js:91\n",
      "    Startup::XRE_Main\n",
      "\n",
      "3.18% (0.87%): (chrome script) (83217)\n",
      "  - 1.2491% (0.3216%):\n",
      "    (chrome script)\n",
      "    Startup::XRE_Main\n",
      "\n",
      "  - 0.2236% (0.0602%):\n",
      "    (chrome script)\n",
      "    gre/modules/Promise-backend.js:792\n",
      "    gre/modules/Promise-backend.js:746\n",
      "    Startup::XRE_Main\n",
      "\n",
      "  - 0.1203% (0.0332%):\n",
      "    (chrome script)\n",
      "    self-hosted:749\n",
      "    self-hosted:649\n",
      "    gre/modules/Task.jsm:308\n",
      "    gre/modules/Promise-backend.js:792\n",
      "    gre/modules/Promise-backend.js:746\n",
      "    Startup::XRE_Main\n",
      "\n",
      "2.92% (12.94%): js::GCRuntime::collect (76432)\n",
      "  - 1.1379% (6.0937%):\n",
      "    js::GCRuntime::collect\n",
      "    nsJSContext::GarbageCollectNow\n",
      "    Timer::Fire\n",
      "    Startup::XRE_Main\n",
      "\n",
      "  - 0.6286% (4.8404%):\n",
      "    js::GCRuntime::collect\n",
      "    nsRefreshDriver::Tick\n",
      "    Startup::XRE_Main\n",
      "\n",
      "  - 0.4836% (0.2068%):\n",
      "    js::GCRuntime::collect\n",
      "    nsXREDirProvider::DoShutdown\n",
      "    Startup::XRE_Main\n",
      "\n",
      "2.47% (0.00%): IPDL::PJavaScript::SendGetPropertyDescriptor (64602)\n",
      "  - 1.3157% (0.0000%):\n",
      "    IPDL::PJavaScript::SendGetPropertyDescriptor\n",
      "    CPOWProxyHandler::getPropertyDescriptor\n",
      "    CPOWDOMQI\n",
      "    idmhelper5.js:91\n",
      "    Startup::XRE_Main\n",
      "\n",
      "  - 0.1329% (0.0000%):\n",
      "    IPDL::PJavaScript::SendGetPropertyDescriptor\n",
      "    CPOWProxyHandler::getPropertyDescriptor\n",
      "    CPOWDOMQI\n",
      "    idmhelper5.js:130\n",
      "    Startup::XRE_Main\n",
      "\n",
      "  - 0.1300% (0.0000%):\n",
      "    IPDL::PJavaScript::SendGetPropertyDescriptor\n",
      "    CPOWProxyHandler::getPropertyDescriptor\n",
      "    CPOWDOMQI\n",
      "    mozilla_cc2@internetdownloadmanager.com/components/idmhelper5.js:91\n",
      "    Startup::XRE_Main\n",
      "\n",
      "2.08% (0.54%): self-hosted:649 (54321)\n",
      "  - 1.6307% (0.4147%):\n",
      "    self-hosted:649\n",
      "    gre/modules/Task.jsm:308\n",
      "    gre/modules/Promise-backend.js:792\n",
      "    gre/modules/Promise-backend.js:746\n",
      "    Startup::XRE_Main\n",
      "\n",
      "  - 0.1059% (0.0296%):\n",
      "    self-hosted:649\n",
      "    gre/modules/Task.jsm:226\n",
      "    gre/components/nsBlocklistService.js:621\n",
      "    EventDispatcher::Dispatch\n",
      "    nsXMLHttpRequest::OnStopRequest\n",
      "    nsHttpChannel::OnStopRequest\n",
      "    nsInputStreamPump::OnStateStop\n",
      "    nsInputStreamPump::OnInputStreamReady\n",
      "    Startup::XRE_Main\n",
      "\n",
      "  - 0.0716% (0.0068%):\n",
      "    self-hosted:649\n",
      "    gre/modules/Task.jsm:308\n",
      "    gre/modules/Promise-backend.js:792\n",
      "    gre/modules/Promise-backend.js:746\n",
      "    Events::ProcessGeckoEvents\n",
      "    Startup::XRE_Main\n",
      "\n",
      "1.37% (5.21%): PresShell::DoReflow (35944)\n",
      "  - 0.4898% (1.2492%):\n",
      "    PresShell::DoReflow\n",
      "    PresShell::Flush\n",
      "    nsRefreshDriver::Tick\n",
      "    Startup::XRE_Main\n",
      "\n",
      "  - 0.2618% (0.1023%):\n",
      "    PresShell::DoReflow\n",
      "    PresShell::Flush\n",
      "    browser/content/newtab/newTab.js:714\n",
      "    browser/content/newtab/newTab.js:419\n",
      "    Timer::Fire\n",
      "    Startup::XRE_Main\n",
      "\n",
      "  - 0.1344% (0.0000%):\n",
      "    PresShell::DoReflow\n",
      "    PresShell::Flush\n",
      "    browser/content/browser.xul:1\n",
      "    EventDispatcher::Dispatch\n",
      "    browser/content/tabbrowser.xml:4022\n",
      "    IPDL::PBrowser::RecvRpcMessage\n",
      "    Startup::XRE_Main\n",
      "\n",
      "1.30% (0.00%): IPDL::PPrinting::RecvShowPrintDialog (33992)\n",
      "  - 1.2933% (0.0000%):\n",
      "    IPDL::PPrinting::RecvShowPrintDialog\n",
      "    Startup::XRE_Main\n",
      "\n",
      "  - 0.0039% (0.0000%):\n",
      "    IPDL::PPrinting::RecvShowPrintDialog\n",
      "    Events::ProcessGeckoEvents\n",
      "    Startup::XRE_Main\n",
      "\n",
      "  - 0.0005% (0.0000%):\n",
      "    IPDL::PPrinting::RecvShowPrintDialog\n",
      "    nsXULWindow::ShowModal\n",
      "    _e1members_/content/mindspark/homepageSpecific.js:134\n",
      "    _e1members_/content/mindspark/core.js:300\n",
      "    _e1members_/content/search/protection.js:61\n",
      "    _e1members_/content/mindspark/core.js:255\n",
      "    _e1members_/content/mindspark/homepageSpecific.js:446\n",
      "    gre/modules/AddonManager.jsm:177\n",
      "    gre/modules/AddonManager.jsm:194\n",
      "    gre/modules/Promise-backend.js:792\n",
      "    gre/modules/Promise-backend.js:746\n",
      "    Startup::XRE_Main\n",
      "\n",
      "1.08% (0.47%): app/modules/WindowsJumpLists.jsm:316 (28261)\n",
      "  - 1.0647% (0.4674%):\n",
      "    app/modules/WindowsJumpLists.jsm:316\n",
      "    app/modules/WindowsJumpLists.jsm:446\n",
      "    Startup::XRE_Main\n",
      "\n",
      "  - 0.0033% (0.0012%):\n",
      "    app/modules/WindowsJumpLists.jsm:316\n",
      "    app/modules/WindowsJumpLists.jsm:446\n",
      "    nsFilePicker::ShowFilePicker\n",
      "    Startup::XRE_Main\n",
      "\n",
      "  - 0.0020% (0.0007%):\n",
      "    app/modules/WindowsJumpLists.jsm:316\n",
      "    app/modules/WindowsJumpLists.jsm:432\n",
      "    Startup::XRE_Main\n",
      "\n",
      "1.03% (0.13%): app/modules/WindowsJumpLists.jsm:270 (26971)\n",
      "  - 1.0241% (0.1305%):\n",
      "    app/modules/WindowsJumpLists.jsm:270\n",
      "    app/modules/WindowsJumpLists.jsm:316\n",
      "    app/modules/WindowsJumpLists.jsm:446\n",
      "    Startup::XRE_Main\n",
      "\n",
      "  - 0.0021% (0.0001%):\n",
      "    app/modules/WindowsJumpLists.jsm:270\n",
      "    app/modules/WindowsJumpLists.jsm:316\n",
      "    app/modules/WindowsJumpLists.jsm:446\n",
      "    nsFilePicker::ShowFilePicker\n",
      "    Startup::XRE_Main\n",
      "\n",
      "  - 0.0012% (0.0003%):\n",
      "    app/modules/WindowsJumpLists.jsm:270\n",
      "    app/modules/WindowsJumpLists.jsm:316\n",
      "    app/modules/WindowsJumpLists.jsm:446\n",
      "    services-common/async.js:156\n",
      "    gre/modules/services-sync/service.js:978\n",
      "    services-sync/util.js:146\n",
      "    services-sync/util.js:98\n",
      "    services-sync/util.js:76\n",
      "    gre/modules/services-sync/service.js:1279\n",
      "    services-sync/util.js:76\n",
      "    gre/modules/services-sync/service.js:1271\n",
      "    Startup::XRE_Main\n",
      "\n",
      "0.92% (0.24%): nsInputStreamPump::OnStateStop (24166)\n",
      "  - 0.8458% (0.2221%):\n",
      "    nsInputStreamPump::OnStateStop\n",
      "    nsInputStreamPump::OnInputStreamReady\n",
      "    Startup::XRE_Main\n",
      "\n",
      "  - 0.0333% (0.0091%):\n",
      "    nsInputStreamPump::OnStateStop\n",
      "    nsInputStreamPump::OnInputStreamReady\n",
      "    self-hosted:749\n",
      "    self-hosted:649\n",
      "    gre/modules/Task.jsm:308\n",
      "    gre/modules/Promise-backend.js:792\n",
      "    gre/modules/Promise-backend.js:746\n",
      "    Startup::XRE_Main\n",
      "\n",
      "  - 0.0201% (0.0000%):\n",
      "    nsInputStreamPump::OnStateStop\n",
      "    nsInputStreamPump::OnInputStreamReady\n",
      "    IPDL::PContent::RecvCreateWindow\n",
      "    Startup::XRE_Main\n",
      "\n",
      "0.91% (0.36%): gre/modules/TelemetryController.jsm:282 (23717)\n",
      "  - 0.7453% (0.3065%):\n",
      "    gre/modules/TelemetryController.jsm:282\n",
      "    gre/modules/TelemetrySession.jsm:334\n",
      "    gre/modules/Timer.jsm:29\n",
      "    Timer::Fire\n",
      "    Startup::XRE_Main\n",
      "\n",
      "  - 0.0439% (0.0161%):\n",
      "    gre/modules/TelemetryController.jsm:282\n",
      "    gre/modules/TelemetrySession.jsm:384\n",
      "    Startup::XRE_Main\n",
      "\n",
      "  - 0.0358% (0.0115%):\n",
      "    gre/modules/TelemetryController.jsm:282\n",
      "    self-hosted:649\n",
      "    gre/modules/Task.jsm:308\n",
      "    gre/modules/Promise-backend.js:792\n",
      "    gre/modules/Promise-backend.js:746\n",
      "    Startup::XRE_Main\n",
      "\n",
      "0.85% (0.00%): CPOWProxyHandler::get (22142)\n",
      "  - 0.1976% (0.0000%):\n",
      "    CPOWProxyHandler::get\n",
      "    xpc::AddonWrapper<class js::CrossCompartmentWrapper>::get\n",
      "    saff/content/annotationEngine.js:152\n",
      "    Timer::Fire\n",
      "    Startup::XRE_Main\n",
      "\n",
      "  - 0.1340% (0.0000%):\n",
      "    CPOWProxyHandler::get\n",
      "    xpc::AddonWrapper<class js::CrossCompartmentWrapper>::get\n",
      "    saff/content/annotationEngine.js:148\n",
      "    Timer::Fire\n",
      "    Startup::XRE_Main\n",
      "\n",
      "  - 0.0844% (0.0000%):\n",
      "    CPOWProxyHandler::get\n",
      "    xpc::AddonWrapper<class js::CrossCompartmentWrapper>::get\n",
      "    idmhelper5.js:99\n",
      "    idmhelper8.js:45\n",
      "    IPDL::PContent::RecvRpcMessage\n",
      "    Startup::XRE_Main\n",
      "\n",
      "0.84% (0.14%): nsXREDirProvider::DoShutdown (22086)\n",
      "  - 0.8437% (0.1359%):\n",
      "    nsXREDirProvider::DoShutdown\n",
      "    Startup::XRE_Main\n",
      "\n",
      "  - 0.0000% (0.0000%):\n",
      "    nsXREDirProvider::DoShutdown\n",
      "    nsViewManager::DispatchEvent\n",
      "    Startup::XRE_Main\n",
      "\n",
      "0.74% (3.77%): IPDL::PLayerTransaction::SendUpdate (19418)\n",
      "  - 0.5811% (2.8309%):\n",
      "    IPDL::PLayerTransaction::SendUpdate\n",
      "    ShadowLayerForwarder::EndTransaction\n",
      "    nsDisplayList::PaintRoot\n",
      "    nsLayoutUtils::PaintFrame\n",
      "    PresShell::Paint\n",
      "    nsRefreshDriver::Tick\n",
      "    Startup::XRE_Main\n",
      "\n",
      "  - 0.1173% (0.6860%):\n",
      "    IPDL::PLayerTransaction::SendUpdate\n",
      "    ShadowLayerForwarder::EndTransaction\n",
      "    nsDisplayList::PaintRoot\n",
      "    nsLayoutUtils::PaintFrame\n",
      "    PresShell::Paint\n",
      "    nsRefreshDriver::Tick\n",
      "    IPDL::PCompositor::RecvDidComposite\n",
      "    Startup::XRE_Main\n",
      "\n",
      "  - 0.0321% (0.0197%):\n",
      "    IPDL::PLayerTransaction::SendUpdate\n",
      "    ShadowLayerForwarder::EndTransaction\n",
      "    nsDisplayList::PaintRoot\n",
      "    nsLayoutUtils::PaintFrame\n",
      "    PresShell::Paint\n",
      "    Startup::XRE_Main\n",
      "\n",
      "0.73% (0.18%): browser/content/browser.xul:1 (19004)\n",
      "  - 0.4742% (0.1227%):\n",
      "    browser/content/browser.xul:1\n",
      "    EventDispatcher::Dispatch\n",
      "    nsViewManager::DispatchEvent\n",
      "    Startup::XRE_Main\n",
      "\n",
      "  - 0.1243% (0.0273%):\n",
      "    browser/content/browser.xul:1\n",
      "    EventDispatcher::Dispatch\n",
      "    Startup::XRE_Main\n",
      "\n",
      "  - 0.0273% (0.0000%):\n",
      "    browser/content/browser.xul:1\n",
      "    EventDispatcher::Dispatch\n",
      "    browser/content/tabbrowser.xml:4022\n",
      "    IPDL::PBrowser::RecvRpcMessage\n",
      "    Startup::XRE_Main\n",
      "\n",
      "0.71% (0.24%): mozilla::ipc::GeckoChildProcessHost::WaitUntilConnected (18642)\n",
      "  - 0.6923% (0.0000%):\n",
      "    mozilla::ipc::GeckoChildProcessHost::WaitUntilConnected\n",
      "    GetNewPluginLibrary\n",
      "    nsNPAPIPlugin::CreatePlugin\n",
      "    nsPluginHost::GetPluginForContentProcess\n",
      "    mozilla::plugins::SetupBridge\n",
      "    IPDL::PContent::RecvLoadPlugin\n",
      "    Startup::XRE_Main\n",
      "\n",
      "  - 0.0080% (0.0022%):\n",
      "    mozilla::ipc::GeckoChildProcessHost::WaitUntilConnected\n",
      "    GetNewPluginLibrary\n",
      "    nsNPAPIPlugin::CreatePlugin\n",
      "    browser/content/sanitize.js:295\n",
      "    gre/modules/Promise-backend.js:335\n",
      "    self-hosted:666\n",
      "    gre/modules/Task.jsm:308\n",
      "    gre/modules/Promise-backend.js:792\n",
      "    gre/modules/Promise-backend.js:746\n",
      "    Startup::XRE_Main\n",
      "\n",
      "  - 0.0012% (0.0004%):\n",
      "    mozilla::ipc::GeckoChildProcessHost::WaitUntilConnected\n",
      "    GetNewPluginLibrary\n",
      "    nsNPAPIPlugin::CreatePlugin\n",
      "    (chrome script)\n",
      "    self-hosted:666\n",
      "    gre/modules/Task.jsm:308\n",
      "    gre/modules/Promise-backend.js:792\n",
      "    gre/modules/Promise-backend.js:746\n",
      "    Startup::XRE_Main\n",
      "\n",
      "0.65% (0.16%): mozilla::scache::StartupCache::GetBuffer (17098)\n",
      "  - 0.0333% (0.0000%):\n",
      "    mozilla::scache::StartupCache::GetBuffer\n",
      "    mozilla::dom::ContentParent::CreateBrowserOrApp\n",
      "    nsFrameLoader::CreateRemoteBrowser\n",
      "    nsFrameLoader::ShowRemoteFrame\n",
      "    mozilla::AsyncFrameInit::Run\n",
      "    browser/content/tabbrowser.xml:1574\n",
      "    /modules/sessionstore/SessionStore.jsm:3161\n",
      "    /modules/sessionstore/SessionStore.jsm:2514\n",
      "    gre/modules/Promise-backend.js:792\n",
      "    gre/modules/Promise-backend.js:746\n",
      "    Startup::XRE_Main\n",
      "\n",
      "  - 0.0241% (0.0000%):\n",
      "    mozilla::scache::StartupCache::GetBuffer\n",
      "    (chrome script)\n",
      "    global/content/bindings/browser.xml:843\n",
      "    browser/content/tabbrowser.xml:1574\n",
      "    /modules/sessionstore/SessionStore.jsm:3161\n",
      "    /modules/sessionstore/SessionStore.jsm:2514\n",
      "    gre/modules/Promise-backend.js:792\n",
      "    gre/modules/Promise-backend.js:746\n",
      "    Startup::XRE_Main\n",
      "\n",
      "  - 0.0212% (0.0000%):\n",
      "    mozilla::scache::StartupCache::GetBuffer\n",
      "    global/content/bindings/remote-browser.xml:337\n",
      "    browser/content/tabbrowser.xml:1574\n",
      "    /modules/sessionstore/SessionStore.jsm:3161\n",
      "    /modules/sessionstore/SessionStore.jsm:2514\n",
      "    gre/modules/Promise-backend.js:792\n",
      "    gre/modules/Promise-backend.js:746\n",
      "    Startup::XRE_Main\n",
      "\n",
      "0.65% (0.97%): PresShell::Flush (16896)\n",
      "  - 0.4383% (0.0690%):\n",
      "    PresShell::Flush\n",
      "    browser/content/newtab/newTab.js:714\n",
      "    browser/content/newtab/newTab.js:419\n",
      "    Timer::Fire\n",
      "    Startup::XRE_Main\n",
      "\n",
      "  - 0.0384% (0.1411%):\n",
      "    PresShell::Flush\n",
      "    nsRefreshDriver::Tick\n",
      "    Startup::XRE_Main\n",
      "\n",
      "  - 0.0314% (0.0020%):\n",
      "    PresShell::Flush\n",
      "    browser/content/newtab/newTab.js:419\n",
      "    Timer::Fire\n",
      "    Startup::XRE_Main\n",
      "\n",
      "0.62% (0.11%): xpc::AddonWrapper<class js::CrossCompartmentWrapper>::get (16181)\n",
      "  - 0.1354% (0.0000%):\n",
      "    xpc::AddonWrapper<class js::CrossCompartmentWrapper>::get\n",
      "    idmhelper5.js:99\n",
      "    idmhelper8.js:45\n",
      "    IPDL::PContent::RecvRpcMessage\n",
      "    Startup::XRE_Main\n",
      "\n",
      "  - 0.0981% (0.0000%):\n",
      "    xpc::AddonWrapper<class js::CrossCompartmentWrapper>::get\n",
      "    saff/content/annotationEngine.js:152\n",
      "    Timer::Fire\n",
      "    Startup::XRE_Main\n",
      "\n",
      "  - 0.0651% (0.0000%):\n",
      "    xpc::AddonWrapper<class js::CrossCompartmentWrapper>::get\n",
      "    saff/content/annotationEngine.js:148\n",
      "    Timer::Fire\n",
      "    Startup::XRE_Main\n",
      "\n",
      "0.58% (0.52%): Timer::Fire (15305)\n",
      "  - 0.4958% (0.4925%):\n",
      "    Timer::Fire\n",
      "    Startup::XRE_Main\n",
      "\n",
      "  - 0.0628% (0.0147%):\n",
      "    Timer::Fire\n",
      "    Events::ProcessGeckoEvents\n",
      "    Startup::XRE_Main\n",
      "\n",
      "  - 0.0074% (0.0014%):\n",
      "    Timer::Fire\n",
      "    nsXREDirProvider::DoShutdown\n",
      "    Startup::XRE_Main\n",
      "\n",
      "0.58% (0.65%): DisplayList::Draw (15124)\n",
      "  - 0.3544% (0.3822%):\n",
      "    DisplayList::Draw\n",
      "    FrameLayerBuilder::DrawPaintedLayer\n",
      "    ClientPaintedLayer::PaintThebes\n",
      "    ClientLayerManager::EndTransactionInternal\n",
      "    nsDisplayList::PaintRoot\n",
      "    nsLayoutUtils::PaintFrame\n",
      "    PresShell::Paint\n",
      "    nsRefreshDriver::Tick\n",
      "    Startup::XRE_Main\n",
      "\n",
      "  - 0.0701% (0.0233%):\n",
      "    DisplayList::Draw\n",
      "    FrameLayerBuilder::DrawPaintedLayer\n",
      "    ClientPaintedLayer::PaintThebes\n",
      "    ClientLayerManager::EndTransactionInternal\n",
      "    nsDisplayList::PaintRoot\n",
      "    nsLayoutUtils::PaintFrame\n",
      "    PresShell::Paint\n",
      "    Startup::XRE_Main\n",
      "\n",
      "  - 0.0349% (0.0112%):\n",
      "    DisplayList::Draw\n",
      "    FrameLayerBuilder::DrawPaintedLayer\n",
      "    BasicPaintedLayer::PaintThebes\n",
      "    BasicLayerManager::PaintLayer\n",
      "    BasicLayerManager::EndTransactionInternal\n",
      "    nsDisplayList::PaintRoot\n",
      "    nsLayoutUtils::PaintFrame\n",
      "    gfxUtils::DrawPixelSnapped\n",
      "    layout::nsLayoutUtils::DrawBackgroundImage\n",
      "    nsCSSRendering::PaintBackground\n",
      "    DisplayList::Draw\n",
      "    FrameLayerBuilder::DrawPaintedLayer\n",
      "    ClientPaintedLayer::PaintThebes\n",
      "    ClientLayerManager::EndTransactionInternal\n",
      "    nsDisplayList::PaintRoot\n",
      "    nsLayoutUtils::PaintFrame\n",
      "    PresShell::Paint\n",
      "    nsRefreshDriver::Tick\n",
      "    Startup::XRE_Main\n",
      "\n",
      "0.57% (0.14%): Statement::ExecuteStep (14907)\n",
      "  - 0.1398% (0.0416%):\n",
      "    Statement::ExecuteStep\n",
      "    Startup::XRE_Main\n",
      "\n",
      "  - 0.0533% (0.0109%):\n",
      "    Statement::ExecuteStep\n",
      "    nsHttpChannel::OnDataAvailable\n",
      "    nsInputStreamPump::OnStateTransfer\n",
      "    nsInputStreamPump::OnInputStreamReady\n",
      "    Startup::XRE_Main\n",
      "\n",
      "  - 0.0440% (0.0038%):\n",
      "    Statement::ExecuteStep\n",
      "    forecastfox/content/locations.js:322\n",
      "    Timer::Fire\n",
      "    Startup::XRE_Main\n",
      "\n"
     ]
    }
   ],
   "source": [
    "print_e10s_groups(25, 3)"
   ]
  },
  {
   "cell_type": "markdown",
   "metadata": {},
   "source": [
    "### Top stacks"
   ]
  },
  {
   "cell_type": "code",
   "execution_count": 23,
   "metadata": {
    "collapsed": true
   },
   "outputs": [],
   "source": [
    "def print_top_stacks(a_stacks, b_stacks, count):\n",
    "    from collections import Counter\n",
    "    a_total_count = sum(a_stacks.values())\n",
    "    b_total_count = sum(b_stacks.values())\n",
    "    for a_stack, a_stack_count in Counter(a_stacks).most_common(count):\n",
    "        b_stack_count = b_stacks.get(a_stack, 0)\n",
    "        print \"- {:.4f}% ({:.4f}%):\".format(\n",
    "            100.0 * a_stack_count / a_total_count,\n",
    "            100.0 * b_stack_count / b_total_count)\n",
    "        print \"  {}\\n\".format(\"\\n  \".join(reversed(a_stack)))"
   ]
  },
  {
   "cell_type": "markdown",
   "metadata": {},
   "source": [
    "#### e10s parent process stacks"
   ]
  },
  {
   "cell_type": "code",
   "execution_count": 24,
   "metadata": {
    "collapsed": false
   },
   "outputs": [
    {
     "name": "stdout",
     "output_type": "stream",
     "text": [
      "- 23.9088% (4.5939%):\n",
      "  Startup::XRE_Main\n",
      "\n",
      "- 8.2615% (0.6796%):\n",
      "  nsFilePicker::ShowFilePicker\n",
      "  Startup::XRE_Main\n",
      "\n",
      "- 1.8640% (0.0000%):\n",
      "  IPDL::PJavaScript::SendGet\n",
      "  CPOWProxyHandler::get\n",
      "  xpc::AddonWrapper<class js::CrossCompartmentWrapper>::get\n",
      "  idmhelper5.js:99\n",
      "  idmhelper8.js:45\n",
      "  IPDL::PContent::RecvRpcMessage\n",
      "  Startup::XRE_Main\n",
      "\n",
      "- 1.6307% (0.4147%):\n",
      "  self-hosted:649\n",
      "  gre/modules/Task.jsm:308\n",
      "  gre/modules/Promise-backend.js:792\n",
      "  gre/modules/Promise-backend.js:746\n",
      "  Startup::XRE_Main\n",
      "\n",
      "- 1.5338% (0.0000%):\n",
      "  IPDL::PJavaScript::SendGet\n",
      "  CPOWProxyHandler::get\n",
      "  xpc::AddonWrapper<class js::CrossCompartmentWrapper>::get\n",
      "  saff/content/annotationEngine.js:152\n",
      "  Timer::Fire\n",
      "  Startup::XRE_Main\n",
      "\n",
      "- 1.3157% (0.0000%):\n",
      "  IPDL::PJavaScript::SendGetPropertyDescriptor\n",
      "  CPOWProxyHandler::getPropertyDescriptor\n",
      "  CPOWDOMQI\n",
      "  idmhelper5.js:91\n",
      "  Startup::XRE_Main\n",
      "\n",
      "- 1.2933% (0.0000%):\n",
      "  IPDL::PPrinting::RecvShowPrintDialog\n",
      "  Startup::XRE_Main\n",
      "\n",
      "- 1.2491% (0.3216%):\n",
      "  (chrome script)\n",
      "  Startup::XRE_Main\n",
      "\n",
      "- 1.1379% (6.0937%):\n",
      "  js::GCRuntime::collect\n",
      "  nsJSContext::GarbageCollectNow\n",
      "  Timer::Fire\n",
      "  Startup::XRE_Main\n",
      "\n",
      "- 1.0647% (0.4674%):\n",
      "  app/modules/WindowsJumpLists.jsm:316\n",
      "  app/modules/WindowsJumpLists.jsm:446\n",
      "  Startup::XRE_Main\n",
      "\n",
      "- 1.0241% (0.1305%):\n",
      "  app/modules/WindowsJumpLists.jsm:270\n",
      "  app/modules/WindowsJumpLists.jsm:316\n",
      "  app/modules/WindowsJumpLists.jsm:446\n",
      "  Startup::XRE_Main\n",
      "\n",
      "- 1.0090% (0.0000%):\n",
      "  IPDL::PJavaScript::SendGet\n",
      "  CPOWProxyHandler::get\n",
      "  xpc::AddonWrapper<class js::CrossCompartmentWrapper>::get\n",
      "  saff/content/annotationEngine.js:148\n",
      "  Timer::Fire\n",
      "  Startup::XRE_Main\n",
      "\n",
      "- 0.8458% (0.2221%):\n",
      "  nsInputStreamPump::OnStateStop\n",
      "  nsInputStreamPump::OnInputStreamReady\n",
      "  Startup::XRE_Main\n",
      "\n",
      "- 0.8437% (0.1359%):\n",
      "  nsXREDirProvider::DoShutdown\n",
      "  Startup::XRE_Main\n",
      "\n",
      "- 0.7453% (0.3065%):\n",
      "  gre/modules/TelemetryController.jsm:282\n",
      "  gre/modules/TelemetrySession.jsm:334\n",
      "  gre/modules/Timer.jsm:29\n",
      "  Timer::Fire\n",
      "  Startup::XRE_Main\n",
      "\n",
      "- 0.7319% (0.0000%):\n",
      "  IPDL::PJavaScript::SendGet\n",
      "  CPOWProxyHandler::get\n",
      "  global/content/bindings/remote-browser.xml:164\n",
      "  gre/modules/RemoteAddonsParent.jsm:868\n",
      "  gre/components/multiprocessShims.js:165\n",
      "  xpc::AddonWrapper<class js::CrossCompartmentWrapper>::get\n",
      "  lvd-sae/js/modules/contentscript.js:22\n",
      "  gre/modules/Timer.jsm:29\n",
      "  Timer::Fire\n",
      "  Startup::XRE_Main\n",
      "\n",
      "- 0.6923% (0.0000%):\n",
      "  mozilla::ipc::GeckoChildProcessHost::WaitUntilConnected\n",
      "  GetNewPluginLibrary\n",
      "  nsNPAPIPlugin::CreatePlugin\n",
      "  nsPluginHost::GetPluginForContentProcess\n",
      "  mozilla::plugins::SetupBridge\n",
      "  IPDL::PContent::RecvLoadPlugin\n",
      "  Startup::XRE_Main\n",
      "\n",
      "- 0.6286% (4.8404%):\n",
      "  js::GCRuntime::collect\n",
      "  nsRefreshDriver::Tick\n",
      "  Startup::XRE_Main\n",
      "\n",
      "- 0.5811% (2.8309%):\n",
      "  IPDL::PLayerTransaction::SendUpdate\n",
      "  ShadowLayerForwarder::EndTransaction\n",
      "  nsDisplayList::PaintRoot\n",
      "  nsLayoutUtils::PaintFrame\n",
      "  PresShell::Paint\n",
      "  nsRefreshDriver::Tick\n",
      "  Startup::XRE_Main\n",
      "\n",
      "- 0.5265% (0.0000%):\n",
      "  IPDL::PJavaScript::SendCallOrConstruct\n",
      "  CPOWProxyHandler::call\n",
      "  saff/content/annotationEngine.js:152\n",
      "  Timer::Fire\n",
      "  Startup::XRE_Main\n",
      "\n",
      "- 0.4958% (0.4925%):\n",
      "  Timer::Fire\n",
      "  Startup::XRE_Main\n",
      "\n",
      "- 0.4898% (1.2492%):\n",
      "  PresShell::DoReflow\n",
      "  PresShell::Flush\n",
      "  nsRefreshDriver::Tick\n",
      "  Startup::XRE_Main\n",
      "\n",
      "- 0.4836% (0.2068%):\n",
      "  js::GCRuntime::collect\n",
      "  nsXREDirProvider::DoShutdown\n",
      "  Startup::XRE_Main\n",
      "\n",
      "- 0.4742% (0.1227%):\n",
      "  browser/content/browser.xul:1\n",
      "  EventDispatcher::Dispatch\n",
      "  nsViewManager::DispatchEvent\n",
      "  Startup::XRE_Main\n",
      "\n",
      "- 0.4578% (0.1175%):\n",
      "  app/modules/WindowsJumpLists.jsm:545\n",
      "  Timer::Fire\n",
      "  Startup::XRE_Main\n",
      "\n"
     ]
    }
   ],
   "source": [
    "print_top_stacks(we10s_stacks, ne10s_stacks, 25)"
   ]
  },
  {
   "cell_type": "markdown",
   "metadata": {},
   "source": [
    "#### non-e10s parent process stacks"
   ]
  },
  {
   "cell_type": "code",
   "execution_count": 25,
   "metadata": {
    "collapsed": false
   },
   "outputs": [
    {
     "name": "stdout",
     "output_type": "stream",
     "text": [
      "- 8.9379% (0.1834%):\n",
      "  (content script)\n",
      "  Timer::Fire\n",
      "  Startup::XRE_Main\n",
      "\n",
      "- 6.0937% (1.1379%):\n",
      "  js::GCRuntime::collect\n",
      "  nsJSContext::GarbageCollectNow\n",
      "  Timer::Fire\n",
      "  Startup::XRE_Main\n",
      "\n",
      "- 5.8339% (0.0535%):\n",
      "  (content script)\n",
      "  EventDispatcher::Dispatch\n",
      "  Startup::XRE_Main\n",
      "\n",
      "- 4.8404% (0.6286%):\n",
      "  js::GCRuntime::collect\n",
      "  nsRefreshDriver::Tick\n",
      "  Startup::XRE_Main\n",
      "\n",
      "- 4.5939% (23.9088%):\n",
      "  Startup::XRE_Main\n",
      "\n",
      "- 2.8309% (0.5811%):\n",
      "  IPDL::PLayerTransaction::SendUpdate\n",
      "  ShadowLayerForwarder::EndTransaction\n",
      "  nsDisplayList::PaintRoot\n",
      "  nsLayoutUtils::PaintFrame\n",
      "  PresShell::Paint\n",
      "  nsRefreshDriver::Tick\n",
      "  Startup::XRE_Main\n",
      "\n",
      "- 2.6305% (0.0073%):\n",
      "  (content script)\n",
      "  EventDispatcher::Dispatch\n",
      "  nsXMLHttpRequest::OnStopRequest\n",
      "  nsHttpChannel::OnStopRequest\n",
      "  nsInputStreamPump::OnStateStop\n",
      "  nsInputStreamPump::OnInputStreamReady\n",
      "  Startup::XRE_Main\n",
      "\n",
      "- 2.4982% (0.0010%):\n",
      "  (content script)\n",
      "  EventDispatcher::Dispatch\n",
      "  nsViewManager::DispatchEvent\n",
      "  Startup::XRE_Main\n",
      "\n",
      "- 2.2986% (0.0000%):\n",
      "  IPDL::PPluginInstance::SendNPP_NewStream\n",
      "  PluginModuleParent::NPP_NewStream\n",
      "  nsNPAPIPluginStreamListener::OnStartBinding\n",
      "  nsPluginStreamListenerPeer::OnStartRequest\n",
      "  nsHttpChannel::OnStartRequest\n",
      "  nsInputStreamPump::OnStateStart\n",
      "  nsInputStreamPump::OnInputStreamReady\n",
      "  Startup::XRE_Main\n",
      "\n",
      "- 2.0813% (0.0517%):\n",
      "  (content script)\n",
      "  nsJSUtils::EvaluateString\n",
      "  Startup::XRE_Main\n",
      "\n",
      "- 1.7591% (0.0546%):\n",
      "  (content script)\n",
      "  nsJSUtils::EvaluateString\n",
      "  nsHtml5TreeOpExecutor::RunFlushLoop\n",
      "  Startup::XRE_Main\n",
      "\n",
      "- 1.5837% (0.2283%):\n",
      "  nsCycleCollector::collectSlice\n",
      "  nsJSContext::RunCycleCollectorSlice\n",
      "  Timer::Fire\n",
      "  Startup::XRE_Main\n",
      "\n",
      "- 1.2492% (0.4898%):\n",
      "  PresShell::DoReflow\n",
      "  PresShell::Flush\n",
      "  nsRefreshDriver::Tick\n",
      "  Startup::XRE_Main\n",
      "\n",
      "- 1.0963% (0.0325%):\n",
      "  nsDisplayBoxShadowOuter::Paint\n",
      "  DisplayList::Draw\n",
      "  FrameLayerBuilder::DrawPaintedLayer\n",
      "  ClientPaintedLayer::PaintThebes\n",
      "  ClientLayerManager::EndTransactionInternal\n",
      "  nsDisplayList::PaintRoot\n",
      "  nsLayoutUtils::PaintFrame\n",
      "  PresShell::Paint\n",
      "  nsRefreshDriver::Tick\n",
      "  Startup::XRE_Main\n",
      "\n",
      "- 1.0024% (0.0008%):\n",
      "  PresShell::DoReflow\n",
      "  PresShell::Flush\n",
      "  (content script)\n",
      "  Timer::Fire\n",
      "  Startup::XRE_Main\n",
      "\n",
      "- 0.8706% (0.0000%):\n",
      "  IPDL::PPluginInstance::SendNPP_HandleEvent\n",
      "  nsNPAPIPluginInstance::HandleEvent\n",
      "  EventDispatcher::Dispatch\n",
      "  nsViewManager::DispatchEvent\n",
      "  Startup::XRE_Main\n",
      "\n",
      "- 0.8701% (0.0001%):\n",
      "  nsStyleSet::FileRules\n",
      "  (content script)\n",
      "  Timer::Fire\n",
      "  Startup::XRE_Main\n",
      "\n",
      "- 0.6860% (0.1173%):\n",
      "  IPDL::PLayerTransaction::SendUpdate\n",
      "  ShadowLayerForwarder::EndTransaction\n",
      "  nsDisplayList::PaintRoot\n",
      "  nsLayoutUtils::PaintFrame\n",
      "  PresShell::Paint\n",
      "  nsRefreshDriver::Tick\n",
      "  IPDL::PCompositor::RecvDidComposite\n",
      "  Startup::XRE_Main\n",
      "\n",
      "- 0.6796% (8.2615%):\n",
      "  nsFilePicker::ShowFilePicker\n",
      "  Startup::XRE_Main\n",
      "\n",
      "- 0.6642% (0.0000%):\n",
      "  IPDL::PPluginInstance::SendNPP_Destroy\n",
      "  nsPluginHost::StopPluginInstance\n",
      "  nsObjectLoadingContent::StopPluginInstance\n",
      "  Startup::XRE_Main\n",
      "\n",
      "- 0.6318% (0.0000%):\n",
      "  IPDL::PPluginScriptableObject::SendHasProperty\n",
      "  NPObjWrapper_Resolve\n",
      "  (content script)\n",
      "  Timer::Fire\n",
      "  Startup::XRE_Main\n",
      "\n",
      "- 0.6217% (0.0000%):\n",
      "  IPDL::PPluginScriptableObject::SendHasMethod\n",
      "  NPObjWrapper_Resolve\n",
      "  (content script)\n",
      "  Timer::Fire\n",
      "  Startup::XRE_Main\n",
      "\n",
      "- 0.6189% (0.2813%):\n",
      "  nsCycleCollector::forgetSkippable\n",
      "  Timer::Fire\n",
      "  Startup::XRE_Main\n",
      "\n",
      "- 0.6155% (0.2852%):\n",
      "  ClientPaintedLayer::PaintThebes\n",
      "  ClientLayerManager::EndTransactionInternal\n",
      "  nsDisplayList::PaintRoot\n",
      "  nsLayoutUtils::PaintFrame\n",
      "  PresShell::Paint\n",
      "  nsRefreshDriver::Tick\n",
      "  Startup::XRE_Main\n",
      "\n",
      "- 0.5785% (0.0343%):\n",
      "  nsDisplayText::Paint\n",
      "  DisplayList::Draw\n",
      "  FrameLayerBuilder::DrawPaintedLayer\n",
      "  ClientPaintedLayer::PaintThebes\n",
      "  ClientLayerManager::EndTransactionInternal\n",
      "  nsDisplayList::PaintRoot\n",
      "  nsLayoutUtils::PaintFrame\n",
      "  PresShell::Paint\n",
      "  nsRefreshDriver::Tick\n",
      "  Startup::XRE_Main\n",
      "\n"
     ]
    }
   ],
   "source": [
    "print_top_stacks(ne10s_stacks, we10s_stacks, 25)"
   ]
  }
 ],
 "metadata": {
  "kernelspec": {
   "display_name": "Python 2",
   "language": "python",
   "name": "python2"
  },
  "language_info": {
   "codemirror_mode": {
    "name": "ipython",
    "version": 2
   },
   "file_extension": ".py",
   "mimetype": "text/x-python",
   "name": "python",
   "nbconvert_exporter": "python",
   "pygments_lexer": "ipython2",
   "version": "2.7.10"
  }
 },
 "nbformat": 4,
 "nbformat_minor": 0
}
